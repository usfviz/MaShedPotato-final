{
 "cells": [
  {
   "cell_type": "code",
   "execution_count": 15,
   "metadata": {
    "collapsed": true
   },
   "outputs": [],
   "source": [
    "import pandas as pd\n",
    "import numpy as np"
   ]
  },
  {
   "cell_type": "code",
   "execution_count": 16,
   "metadata": {
    "collapsed": true
   },
   "outputs": [],
   "source": [
    "flights = pd.read_csv('flights.csv')\n",
    "meta = pd.read_csv('airports_meta.csv', header=None, names = [\"row_num\", \"airport_full_name\", \"airport_city\", \"country\", \"airport_code\", \n",
    "                                                              \"airport_random_id\", \"lat\", \"lon\", \"r_1\", \"r_2\", \"r_3\", \"timezone\", \"r_4\", \"r_5\" ])"
   ]
  },
  {
   "cell_type": "code",
   "execution_count": 17,
   "metadata": {
    "collapsed": false
   },
   "outputs": [
    {
     "data": {
      "text/html": [
       "<div>\n",
       "<table border=\"1\" class=\"dataframe\">\n",
       "  <thead>\n",
       "    <tr style=\"text-align: right;\">\n",
       "      <th></th>\n",
       "      <th>CARRIER_CODE</th>\n",
       "      <th>ORIGIN</th>\n",
       "      <th>ORIGIN_STATE_ABR</th>\n",
       "      <th>DEST</th>\n",
       "      <th>DEST_STATE_ABR</th>\n",
       "      <th>CRS_DEP_TIME</th>\n",
       "      <th>DEP_TIME</th>\n",
       "      <th>DEP_DELAY</th>\n",
       "      <th>CRS_ARR_TIME</th>\n",
       "      <th>ARR_TIME</th>\n",
       "      <th>...</th>\n",
       "      <th>CARRIER_DELAY</th>\n",
       "      <th>WEATHER_DELAY</th>\n",
       "      <th>NAS_DELAY</th>\n",
       "      <th>SECURITY_DELAY</th>\n",
       "      <th>LATE_AIRCRAFT_DELAY</th>\n",
       "      <th>CARRIER_NAME</th>\n",
       "      <th>OriginLat</th>\n",
       "      <th>OriginLon</th>\n",
       "      <th>DestLat</th>\n",
       "      <th>DestLon</th>\n",
       "    </tr>\n",
       "  </thead>\n",
       "  <tbody>\n",
       "    <tr>\n",
       "      <th>0</th>\n",
       "      <td>AA</td>\n",
       "      <td>CLT</td>\n",
       "      <td>NC</td>\n",
       "      <td>SYR</td>\n",
       "      <td>NY</td>\n",
       "      <td>5</td>\n",
       "      <td>2358.0</td>\n",
       "      <td>-7.0</td>\n",
       "      <td>146</td>\n",
       "      <td>131.0</td>\n",
       "      <td>...</td>\n",
       "      <td>0.0</td>\n",
       "      <td>0.0</td>\n",
       "      <td>0.0</td>\n",
       "      <td>0.0</td>\n",
       "      <td>0.0</td>\n",
       "      <td>American</td>\n",
       "      <td>35.214001</td>\n",
       "      <td>-80.943100</td>\n",
       "      <td>43.111198</td>\n",
       "      <td>-76.106300</td>\n",
       "    </tr>\n",
       "    <tr>\n",
       "      <th>1</th>\n",
       "      <td>DL</td>\n",
       "      <td>LAS</td>\n",
       "      <td>NV</td>\n",
       "      <td>ATL</td>\n",
       "      <td>GA</td>\n",
       "      <td>5</td>\n",
       "      <td>4.0</td>\n",
       "      <td>-1.0</td>\n",
       "      <td>645</td>\n",
       "      <td>637.0</td>\n",
       "      <td>...</td>\n",
       "      <td>0.0</td>\n",
       "      <td>0.0</td>\n",
       "      <td>0.0</td>\n",
       "      <td>0.0</td>\n",
       "      <td>0.0</td>\n",
       "      <td>Delta</td>\n",
       "      <td>36.080101</td>\n",
       "      <td>-115.152000</td>\n",
       "      <td>33.636700</td>\n",
       "      <td>-84.428101</td>\n",
       "    </tr>\n",
       "    <tr>\n",
       "      <th>2</th>\n",
       "      <td>AA</td>\n",
       "      <td>SEA</td>\n",
       "      <td>WA</td>\n",
       "      <td>CLT</td>\n",
       "      <td>NC</td>\n",
       "      <td>5</td>\n",
       "      <td>6.0</td>\n",
       "      <td>1.0</td>\n",
       "      <td>804</td>\n",
       "      <td>741.0</td>\n",
       "      <td>...</td>\n",
       "      <td>0.0</td>\n",
       "      <td>0.0</td>\n",
       "      <td>0.0</td>\n",
       "      <td>0.0</td>\n",
       "      <td>0.0</td>\n",
       "      <td>American</td>\n",
       "      <td>47.449001</td>\n",
       "      <td>-122.308998</td>\n",
       "      <td>35.214001</td>\n",
       "      <td>-80.943100</td>\n",
       "    </tr>\n",
       "    <tr>\n",
       "      <th>3</th>\n",
       "      <td>AA</td>\n",
       "      <td>SEA</td>\n",
       "      <td>WA</td>\n",
       "      <td>ORD</td>\n",
       "      <td>IL</td>\n",
       "      <td>10</td>\n",
       "      <td>11.0</td>\n",
       "      <td>1.0</td>\n",
       "      <td>605</td>\n",
       "      <td>547.0</td>\n",
       "      <td>...</td>\n",
       "      <td>0.0</td>\n",
       "      <td>0.0</td>\n",
       "      <td>0.0</td>\n",
       "      <td>0.0</td>\n",
       "      <td>0.0</td>\n",
       "      <td>American</td>\n",
       "      <td>47.449001</td>\n",
       "      <td>-122.308998</td>\n",
       "      <td>41.978600</td>\n",
       "      <td>-87.904800</td>\n",
       "    </tr>\n",
       "    <tr>\n",
       "      <th>4</th>\n",
       "      <td>AA</td>\n",
       "      <td>CLT</td>\n",
       "      <td>NC</td>\n",
       "      <td>JAX</td>\n",
       "      <td>FL</td>\n",
       "      <td>10</td>\n",
       "      <td>6.0</td>\n",
       "      <td>-4.0</td>\n",
       "      <td>125</td>\n",
       "      <td>123.0</td>\n",
       "      <td>...</td>\n",
       "      <td>0.0</td>\n",
       "      <td>0.0</td>\n",
       "      <td>0.0</td>\n",
       "      <td>0.0</td>\n",
       "      <td>0.0</td>\n",
       "      <td>American</td>\n",
       "      <td>35.214001</td>\n",
       "      <td>-80.943100</td>\n",
       "      <td>30.494101</td>\n",
       "      <td>-81.687897</td>\n",
       "    </tr>\n",
       "  </tbody>\n",
       "</table>\n",
       "<p>5 rows × 25 columns</p>\n",
       "</div>"
      ],
      "text/plain": [
       "  CARRIER_CODE ORIGIN ORIGIN_STATE_ABR DEST DEST_STATE_ABR  CRS_DEP_TIME  \\\n",
       "0           AA    CLT               NC  SYR             NY             5   \n",
       "1           DL    LAS               NV  ATL             GA             5   \n",
       "2           AA    SEA               WA  CLT             NC             5   \n",
       "3           AA    SEA               WA  ORD             IL            10   \n",
       "4           AA    CLT               NC  JAX             FL            10   \n",
       "\n",
       "   DEP_TIME  DEP_DELAY  CRS_ARR_TIME  ARR_TIME    ...      CARRIER_DELAY  \\\n",
       "0    2358.0       -7.0           146     131.0    ...                0.0   \n",
       "1       4.0       -1.0           645     637.0    ...                0.0   \n",
       "2       6.0        1.0           804     741.0    ...                0.0   \n",
       "3      11.0        1.0           605     547.0    ...                0.0   \n",
       "4       6.0       -4.0           125     123.0    ...                0.0   \n",
       "\n",
       "   WEATHER_DELAY NAS_DELAY  SECURITY_DELAY  LATE_AIRCRAFT_DELAY  CARRIER_NAME  \\\n",
       "0            0.0       0.0             0.0                  0.0      American   \n",
       "1            0.0       0.0             0.0                  0.0         Delta   \n",
       "2            0.0       0.0             0.0                  0.0      American   \n",
       "3            0.0       0.0             0.0                  0.0      American   \n",
       "4            0.0       0.0             0.0                  0.0      American   \n",
       "\n",
       "   OriginLat   OriginLon    DestLat    DestLon  \n",
       "0  35.214001  -80.943100  43.111198 -76.106300  \n",
       "1  36.080101 -115.152000  33.636700 -84.428101  \n",
       "2  47.449001 -122.308998  35.214001 -80.943100  \n",
       "3  47.449001 -122.308998  41.978600 -87.904800  \n",
       "4  35.214001  -80.943100  30.494101 -81.687897  \n",
       "\n",
       "[5 rows x 25 columns]"
      ]
     },
     "execution_count": 17,
     "metadata": {},
     "output_type": "execute_result"
    }
   ],
   "source": [
    "flights.head()"
   ]
  },
  {
   "cell_type": "code",
   "execution_count": 18,
   "metadata": {
    "collapsed": false
   },
   "outputs": [
    {
     "data": {
      "text/plain": [
       "(9778, 25)"
      ]
     },
     "execution_count": 18,
     "metadata": {},
     "output_type": "execute_result"
    }
   ],
   "source": [
    "flights.shape"
   ]
  },
  {
   "cell_type": "code",
   "execution_count": 19,
   "metadata": {
    "collapsed": false
   },
   "outputs": [
    {
     "data": {
      "text/plain": [
       "Index([u'CARRIER_CODE', u'ORIGIN', u'ORIGIN_STATE_ABR', u'DEST',\n",
       "       u'DEST_STATE_ABR', u'CRS_DEP_TIME', u'DEP_TIME', u'DEP_DELAY',\n",
       "       u'CRS_ARR_TIME', u'ARR_TIME', u'ARR_DELAY', u'CANCELLED',\n",
       "       u'CANCELLATION_CODE', u'ACTUAL_ELAPSED_TIME', u'DISTANCE',\n",
       "       u'CARRIER_DELAY', u'WEATHER_DELAY', u'NAS_DELAY', u'SECURITY_DELAY',\n",
       "       u'LATE_AIRCRAFT_DELAY', u'CARRIER_NAME', u'OriginLat', u'OriginLon',\n",
       "       u'DestLat', u'DestLon'],\n",
       "      dtype='object')"
      ]
     },
     "execution_count": 19,
     "metadata": {},
     "output_type": "execute_result"
    }
   ],
   "source": [
    "flights.columns"
   ]
  },
  {
   "cell_type": "code",
   "execution_count": 20,
   "metadata": {
    "collapsed": true
   },
   "outputs": [],
   "source": [
    "outbound_flights = pd.DataFrame(flights.groupby(['ORIGIN'], as_index=False).size().rename('outbound'))\n",
    "inbound_flights = pd.DataFrame(flights.groupby(['DEST'], as_index=False).size().rename('inbound'))"
   ]
  },
  {
   "cell_type": "code",
   "execution_count": 21,
   "metadata": {
    "collapsed": false
   },
   "outputs": [],
   "source": [
    "merged_df = outbound_flights.merge(inbound_flights, left_index=True, right_index=True)"
   ]
  },
  {
   "cell_type": "code",
   "execution_count": 22,
   "metadata": {
    "collapsed": true
   },
   "outputs": [],
   "source": [
    "merged_df['total'] = merged_df['inbound'] + merged_df['outbound']"
   ]
  },
  {
   "cell_type": "code",
   "execution_count": 23,
   "metadata": {
    "collapsed": false
   },
   "outputs": [
    {
     "data": {
      "text/html": [
       "<div>\n",
       "<table border=\"1\" class=\"dataframe\">\n",
       "  <thead>\n",
       "    <tr style=\"text-align: right;\">\n",
       "      <th></th>\n",
       "      <th>outbound</th>\n",
       "      <th>inbound</th>\n",
       "      <th>total</th>\n",
       "    </tr>\n",
       "  </thead>\n",
       "  <tbody>\n",
       "    <tr>\n",
       "      <th>ABQ</th>\n",
       "      <td>31</td>\n",
       "      <td>30</td>\n",
       "      <td>61</td>\n",
       "    </tr>\n",
       "    <tr>\n",
       "      <th>ACY</th>\n",
       "      <td>11</td>\n",
       "      <td>11</td>\n",
       "      <td>22</td>\n",
       "    </tr>\n",
       "    <tr>\n",
       "      <th>ADQ</th>\n",
       "      <td>1</td>\n",
       "      <td>1</td>\n",
       "      <td>2</td>\n",
       "    </tr>\n",
       "    <tr>\n",
       "      <th>ALB</th>\n",
       "      <td>18</td>\n",
       "      <td>19</td>\n",
       "      <td>37</td>\n",
       "    </tr>\n",
       "    <tr>\n",
       "      <th>AMA</th>\n",
       "      <td>4</td>\n",
       "      <td>4</td>\n",
       "      <td>8</td>\n",
       "    </tr>\n",
       "  </tbody>\n",
       "</table>\n",
       "</div>"
      ],
      "text/plain": [
       "     outbound  inbound  total\n",
       "ABQ        31       30     61\n",
       "ACY        11       11     22\n",
       "ADQ         1        1      2\n",
       "ALB        18       19     37\n",
       "AMA         4        4      8"
      ]
     },
     "execution_count": 23,
     "metadata": {},
     "output_type": "execute_result"
    }
   ],
   "source": [
    "merged_df.head()"
   ]
  },
  {
   "cell_type": "code",
   "execution_count": 24,
   "metadata": {
    "collapsed": false
   },
   "outputs": [],
   "source": [
    "top_busiest = list(merged_df.sort_values('total', ascending=False)[:30].index)"
   ]
  },
  {
   "cell_type": "code",
   "execution_count": 25,
   "metadata": {
    "collapsed": false
   },
   "outputs": [
    {
     "data": {
      "text/plain": [
       "['ATL',\n",
       " 'LAX',\n",
       " 'DEN',\n",
       " 'PHX',\n",
       " 'MCO',\n",
       " 'LAS',\n",
       " 'DFW',\n",
       " 'ORD',\n",
       " 'SFO',\n",
       " 'SEA',\n",
       " 'JFK',\n",
       " 'FLL',\n",
       " 'CLT',\n",
       " 'BOS',\n",
       " 'MIA',\n",
       " 'BWI',\n",
       " 'EWR',\n",
       " 'MDW',\n",
       " 'IAH',\n",
       " 'MSP',\n",
       " 'TPA',\n",
       " 'SAN',\n",
       " 'LGA',\n",
       " 'DTW',\n",
       " 'PHL',\n",
       " 'SLC',\n",
       " 'DAL',\n",
       " 'HNL',\n",
       " 'DCA',\n",
       " 'PDX']"
      ]
     },
     "execution_count": 25,
     "metadata": {},
     "output_type": "execute_result"
    }
   ],
   "source": [
    "top_busiest"
   ]
  },
  {
   "cell_type": "code",
   "execution_count": 26,
   "metadata": {
    "collapsed": false
   },
   "outputs": [
    {
     "data": {
      "text/plain": [
       "30"
      ]
     },
     "execution_count": 26,
     "metadata": {},
     "output_type": "execute_result"
    }
   ],
   "source": [
    "len(top_busiest)"
   ]
  },
  {
   "cell_type": "code",
   "execution_count": 27,
   "metadata": {
    "collapsed": false
   },
   "outputs": [],
   "source": [
    "# Convert smaller airports to OTHER category\n",
    "flights_top = flights.copy().merge(meta, left_on=\"ORIGIN\", right_on = \"airport_code\")\n",
    "\n",
    "\n",
    "flights_top['ORIGIN'] = flights_top['ORIGIN'].apply(lambda x: x if x in top_busiest else 'OTHER')\n",
    "flights_top['DEST'] = flights_top['DEST'].apply(lambda x: x if x in top_busiest else 'OTHER')\n",
    "\n"
   ]
  },
  {
   "cell_type": "code",
   "execution_count": 29,
   "metadata": {
    "collapsed": false
   },
   "outputs": [],
   "source": [
    "\n",
    "flights_top['timezone'] = flights_top.apply(lambda row: row['timezone'] if row['ORIGIN'] in \n",
    "                                            top_busiest else 'OTHER_TIMEZONE', axis = 1)\n",
    "\n",
    "flights_top[\"airport_full_name\"] = flights_top.apply(lambda row: row['airport_full_name'] if row['ORIGIN'] in \n",
    "                                            top_busiest else 'Other Airports', axis = 1)\n",
    "\n",
    "flights_top[\"airport_city\"] = flights_top.apply(lambda row: row['airport_city'] if row['ORIGIN'] in \n",
    "                                            top_busiest else 'Other Cities', axis = 1)"
   ]
  },
  {
   "cell_type": "code",
   "execution_count": null,
   "metadata": {
    "collapsed": true
   },
   "outputs": [],
   "source": []
  },
  {
   "cell_type": "code",
   "execution_count": 30,
   "metadata": {
    "collapsed": false
   },
   "outputs": [],
   "source": [
    "# flights_top = flights[(flights.ORIGIN.isin(top_busiest)) & (flights.DEST.isin(top_busiest))]"
   ]
  },
  {
   "cell_type": "code",
   "execution_count": 31,
   "metadata": {
    "collapsed": false
   },
   "outputs": [
    {
     "data": {
      "text/plain": [
       "(9778, 39)"
      ]
     },
     "execution_count": 31,
     "metadata": {},
     "output_type": "execute_result"
    }
   ],
   "source": [
    "flights_top.shape"
   ]
  },
  {
   "cell_type": "code",
   "execution_count": 32,
   "metadata": {
    "collapsed": false
   },
   "outputs": [],
   "source": [
    "#  fl_top_merged = flights_top.merge(meta, left_on=\"ORIGIN\", right_on = \"airport_code\")"
   ]
  },
  {
   "cell_type": "code",
   "execution_count": 33,
   "metadata": {
    "collapsed": false
   },
   "outputs": [],
   "source": [
    "# fl_top_merged.shape"
   ]
  },
  {
   "cell_type": "code",
   "execution_count": 34,
   "metadata": {
    "collapsed": false
   },
   "outputs": [],
   "source": [
    "# fl_top_merged.columns"
   ]
  },
  {
   "cell_type": "code",
   "execution_count": 35,
   "metadata": {
    "collapsed": true
   },
   "outputs": [],
   "source": [
    "fl_top_merged = flights_top.copy()"
   ]
  },
  {
   "cell_type": "code",
   "execution_count": 36,
   "metadata": {
    "collapsed": false
   },
   "outputs": [
    {
     "data": {
      "text/plain": [
       "array(['CLT', 'LAS', 'SEA', 'DEN', 'SLC', 'PDX', 'SFO', 'MSP', 'LAX',\n",
       "       'PHX', 'OTHER', 'HNL', 'EWR', 'BOS', 'PHL', 'ORD', 'FLL', 'DFW',\n",
       "       'JFK', 'IAH', 'TPA', 'BWI', 'MCO', 'DTW', 'DCA', 'LGA', 'MIA',\n",
       "       'ATL', 'DAL', 'MDW', 'SAN'], dtype=object)"
      ]
     },
     "execution_count": 36,
     "metadata": {},
     "output_type": "execute_result"
    }
   ],
   "source": [
    "fl_top_merged['ORIGIN'].unique()"
   ]
  },
  {
   "cell_type": "code",
   "execution_count": 37,
   "metadata": {
    "collapsed": false
   },
   "outputs": [
    {
     "data": {
      "text/plain": [
       "array(['America/New_York', 'America/Los_Angeles', 'America/Denver',\n",
       "       'America/Chicago', 'America/Phoenix', 'OTHER_TIMEZONE',\n",
       "       'Pacific/Honolulu'], dtype=object)"
      ]
     },
     "execution_count": 37,
     "metadata": {},
     "output_type": "execute_result"
    }
   ],
   "source": [
    "fl_top_merged['timezone'].unique()"
   ]
  },
  {
   "cell_type": "code",
   "execution_count": 39,
   "metadata": {
    "collapsed": false
   },
   "outputs": [
    {
     "data": {
      "text/plain": [
       "Index([u'CARRIER_CODE', u'ORIGIN', u'ORIGIN_STATE_ABR', u'DEST',\n",
       "       u'DEST_STATE_ABR', u'CRS_DEP_TIME', u'DEP_TIME', u'DEP_DELAY',\n",
       "       u'CRS_ARR_TIME', u'ARR_TIME', u'ARR_DELAY', u'CANCELLED',\n",
       "       u'CANCELLATION_CODE', u'ACTUAL_ELAPSED_TIME', u'DISTANCE',\n",
       "       u'CARRIER_DELAY', u'WEATHER_DELAY', u'NAS_DELAY', u'SECURITY_DELAY',\n",
       "       u'LATE_AIRCRAFT_DELAY', u'CARRIER_NAME', u'OriginLat', u'OriginLon',\n",
       "       u'DestLat', u'DestLon', u'row_num', u'airport_full_name',\n",
       "       u'airport_city', u'country', u'airport_code', u'airport_random_id',\n",
       "       u'lat', u'lon', u'r_1', u'r_2', u'r_3', u'timezone', u'r_4', u'r_5'],\n",
       "      dtype='object')"
      ]
     },
     "execution_count": 39,
     "metadata": {},
     "output_type": "execute_result"
    }
   ],
   "source": [
    "fl_top_merged.columns"
   ]
  },
  {
   "cell_type": "code",
   "execution_count": 40,
   "metadata": {
    "collapsed": true
   },
   "outputs": [],
   "source": [
    "gb = fl_top_merged.groupby(['ORIGIN', 'DEST', 'timezone', 'airport_full_name',  'airport_city'], as_index=False).size()\n",
    "gb.name = 'size'\n",
    "gb = gb.reset_index()"
   ]
  },
  {
   "cell_type": "code",
   "execution_count": 41,
   "metadata": {
    "collapsed": false
   },
   "outputs": [
    {
     "data": {
      "text/plain": [
       "(803, 6)"
      ]
     },
     "execution_count": 41,
     "metadata": {},
     "output_type": "execute_result"
    }
   ],
   "source": [
    "# I guess some airports don't have any flights to other airports (30*29) = 870, but we have 742.\n",
    "gb.shape\n"
   ]
  },
  {
   "cell_type": "code",
   "execution_count": 42,
   "metadata": {
    "collapsed": false,
    "scrolled": false
   },
   "outputs": [
    {
     "data": {
      "text/html": [
       "<div>\n",
       "<table border=\"1\" class=\"dataframe\">\n",
       "  <thead>\n",
       "    <tr style=\"text-align: right;\">\n",
       "      <th></th>\n",
       "      <th>ORIGIN</th>\n",
       "      <th>DEST</th>\n",
       "      <th>timezone</th>\n",
       "      <th>airport_full_name</th>\n",
       "      <th>airport_city</th>\n",
       "      <th>size</th>\n",
       "    </tr>\n",
       "  </thead>\n",
       "  <tbody>\n",
       "    <tr>\n",
       "      <th>0</th>\n",
       "      <td>ATL</td>\n",
       "      <td>BOS</td>\n",
       "      <td>America/New_York</td>\n",
       "      <td>Hartsfield Jackson Atlanta International Airport</td>\n",
       "      <td>Atlanta</td>\n",
       "      <td>10</td>\n",
       "    </tr>\n",
       "    <tr>\n",
       "      <th>1</th>\n",
       "      <td>ATL</td>\n",
       "      <td>BWI</td>\n",
       "      <td>America/New_York</td>\n",
       "      <td>Hartsfield Jackson Atlanta International Airport</td>\n",
       "      <td>Atlanta</td>\n",
       "      <td>11</td>\n",
       "    </tr>\n",
       "    <tr>\n",
       "      <th>2</th>\n",
       "      <td>ATL</td>\n",
       "      <td>CLT</td>\n",
       "      <td>America/New_York</td>\n",
       "      <td>Hartsfield Jackson Atlanta International Airport</td>\n",
       "      <td>Atlanta</td>\n",
       "      <td>10</td>\n",
       "    </tr>\n",
       "    <tr>\n",
       "      <th>3</th>\n",
       "      <td>ATL</td>\n",
       "      <td>DAL</td>\n",
       "      <td>America/New_York</td>\n",
       "      <td>Hartsfield Jackson Atlanta International Airport</td>\n",
       "      <td>Atlanta</td>\n",
       "      <td>3</td>\n",
       "    </tr>\n",
       "    <tr>\n",
       "      <th>4</th>\n",
       "      <td>ATL</td>\n",
       "      <td>DCA</td>\n",
       "      <td>America/New_York</td>\n",
       "      <td>Hartsfield Jackson Atlanta International Airport</td>\n",
       "      <td>Atlanta</td>\n",
       "      <td>10</td>\n",
       "    </tr>\n",
       "  </tbody>\n",
       "</table>\n",
       "</div>"
      ],
      "text/plain": [
       "  ORIGIN DEST          timezone  \\\n",
       "0    ATL  BOS  America/New_York   \n",
       "1    ATL  BWI  America/New_York   \n",
       "2    ATL  CLT  America/New_York   \n",
       "3    ATL  DAL  America/New_York   \n",
       "4    ATL  DCA  America/New_York   \n",
       "\n",
       "                                  airport_full_name airport_city  size  \n",
       "0  Hartsfield Jackson Atlanta International Airport      Atlanta    10  \n",
       "1  Hartsfield Jackson Atlanta International Airport      Atlanta    11  \n",
       "2  Hartsfield Jackson Atlanta International Airport      Atlanta    10  \n",
       "3  Hartsfield Jackson Atlanta International Airport      Atlanta     3  \n",
       "4  Hartsfield Jackson Atlanta International Airport      Atlanta    10  "
      ]
     },
     "execution_count": 42,
     "metadata": {},
     "output_type": "execute_result"
    }
   ],
   "source": [
    "gb.head()"
   ]
  },
  {
   "cell_type": "code",
   "execution_count": 43,
   "metadata": {
    "collapsed": false
   },
   "outputs": [
    {
     "data": {
      "text/plain": [
       "array(['ATL', 'BOS', 'BWI', 'CLT', 'DAL', 'DCA', 'DEN', 'DFW', 'DTW',\n",
       "       'EWR', 'FLL', 'HNL', 'IAH', 'JFK', 'LAS', 'LAX', 'LGA', 'MCO',\n",
       "       'MDW', 'MIA', 'MSP', 'ORD', 'OTHER', 'PDX', 'PHL', 'PHX', 'SAN',\n",
       "       'SEA', 'SFO', 'SLC', 'TPA'], dtype=object)"
      ]
     },
     "execution_count": 43,
     "metadata": {},
     "output_type": "execute_result"
    }
   ],
   "source": [
    "gb['ORIGIN'].unique()"
   ]
  },
  {
   "cell_type": "code",
   "execution_count": 44,
   "metadata": {
    "collapsed": false
   },
   "outputs": [
    {
     "data": {
      "text/plain": [
       "False"
      ]
     },
     "execution_count": 44,
     "metadata": {},
     "output_type": "execute_result"
    }
   ],
   "source": [
    "set(gb['ORIGIN'].unique()) == set(top_busiest)"
   ]
  },
  {
   "cell_type": "code",
   "execution_count": 45,
   "metadata": {
    "collapsed": false
   },
   "outputs": [],
   "source": [
    "# Phoenix and Los Angeles follow the same time, so I make it the same color and group\n",
    "\n",
    "tz_colgrp_map = {\n",
    "    'America/Puerto_Rico' : (\"#FF7F00\", 1),\n",
    "    'America/New_York' : (\"#FF7F00\", 1),\n",
    "    'America/Chicago' : (\"#377EB8\", 2),\n",
    "    'America/Denver' : (\"#F781BF\", 3),\n",
    "    'America/Los_Angeles' : (\"#A0522D\", 4),\n",
    "    'America/Phoenix' : (\"#A0522D\", 4),\n",
    "    'Pacific/Honolulu' : (\"#984EA3\", 5),\n",
    "    'OTHER_TIMEZONE' : (\"#4DAF4A\", 6) \n",
    "}\n",
    "\n",
    "\n",
    "def get_color(timezone):    \n",
    "    return tz_colgrp_map[timezone][0]\n",
    "\n",
    "def get_group(timezone):    \n",
    "    return tz_colgrp_map[timezone][1]"
   ]
  },
  {
   "cell_type": "code",
   "execution_count": 46,
   "metadata": {
    "collapsed": false
   },
   "outputs": [],
   "source": [
    "gb['color'] = gb['timezone'].apply(lambda x: get_color(x))"
   ]
  },
  {
   "cell_type": "code",
   "execution_count": 47,
   "metadata": {
    "collapsed": false
   },
   "outputs": [],
   "source": [
    "gb['group'] = gb['timezone'].apply(lambda x: get_group(x))"
   ]
  },
  {
   "cell_type": "code",
   "execution_count": 49,
   "metadata": {
    "collapsed": false
   },
   "outputs": [
    {
     "data": {
      "text/plain": [
       "(803, 8)"
      ]
     },
     "execution_count": 49,
     "metadata": {},
     "output_type": "execute_result"
    }
   ],
   "source": [
    "gb.shape"
   ]
  },
  {
   "cell_type": "code",
   "execution_count": null,
   "metadata": {
    "collapsed": true
   },
   "outputs": [],
   "source": []
  },
  {
   "cell_type": "code",
   "execution_count": 50,
   "metadata": {
    "collapsed": false
   },
   "outputs": [],
   "source": [
    "flights_airports = gb.groupby(['ORIGIN', 'airport_full_name',  'airport_city', 'group', 'color'], as_index=False).sum().sort_values(['group', 'size'], ascending = [True, False]).reset_index()"
   ]
  },
  {
   "cell_type": "code",
   "execution_count": 51,
   "metadata": {
    "collapsed": false
   },
   "outputs": [],
   "source": [
    "flights_airports.sort_values(['group', 'size'], ascending = [True, False], inplace=True)"
   ]
  },
  {
   "cell_type": "code",
   "execution_count": 55,
   "metadata": {
    "collapsed": true
   },
   "outputs": [],
   "source": [
    "flights_airports['name'] = flights_airports['airport_city']"
   ]
  },
  {
   "cell_type": "code",
   "execution_count": 56,
   "metadata": {
    "collapsed": false
   },
   "outputs": [
    {
     "data": {
      "text/plain": [
       "(31, 8)"
      ]
     },
     "execution_count": 56,
     "metadata": {},
     "output_type": "execute_result"
    }
   ],
   "source": [
    "flights_airports.shape"
   ]
  },
  {
   "cell_type": "code",
   "execution_count": 57,
   "metadata": {
    "collapsed": false
   },
   "outputs": [
    {
     "data": {
      "text/html": [
       "<div>\n",
       "<table border=\"1\" class=\"dataframe\">\n",
       "  <thead>\n",
       "    <tr style=\"text-align: right;\">\n",
       "      <th></th>\n",
       "      <th>index</th>\n",
       "      <th>ORIGIN</th>\n",
       "      <th>airport_full_name</th>\n",
       "      <th>airport_city</th>\n",
       "      <th>group</th>\n",
       "      <th>color</th>\n",
       "      <th>size</th>\n",
       "      <th>name</th>\n",
       "    </tr>\n",
       "  </thead>\n",
       "  <tbody>\n",
       "    <tr>\n",
       "      <th>0</th>\n",
       "      <td>0</td>\n",
       "      <td>ATL</td>\n",
       "      <td>Hartsfield Jackson Atlanta International Airport</td>\n",
       "      <td>Atlanta</td>\n",
       "      <td>1</td>\n",
       "      <td>#FF7F00</td>\n",
       "      <td>568</td>\n",
       "      <td>Atlanta</td>\n",
       "    </tr>\n",
       "    <tr>\n",
       "      <th>1</th>\n",
       "      <td>17</td>\n",
       "      <td>MCO</td>\n",
       "      <td>Orlando International Airport</td>\n",
       "      <td>Orlando</td>\n",
       "      <td>1</td>\n",
       "      <td>#FF7F00</td>\n",
       "      <td>343</td>\n",
       "      <td>Orlando</td>\n",
       "    </tr>\n",
       "    <tr>\n",
       "      <th>2</th>\n",
       "      <td>13</td>\n",
       "      <td>JFK</td>\n",
       "      <td>John F Kennedy International Airport</td>\n",
       "      <td>New York</td>\n",
       "      <td>1</td>\n",
       "      <td>#FF7F00</td>\n",
       "      <td>255</td>\n",
       "      <td>New York</td>\n",
       "    </tr>\n",
       "    <tr>\n",
       "      <th>3</th>\n",
       "      <td>10</td>\n",
       "      <td>FLL</td>\n",
       "      <td>Fort Lauderdale Hollywood International Airport</td>\n",
       "      <td>Fort Lauderdale</td>\n",
       "      <td>1</td>\n",
       "      <td>#FF7F00</td>\n",
       "      <td>248</td>\n",
       "      <td>Fort Lauderdale</td>\n",
       "    </tr>\n",
       "    <tr>\n",
       "      <th>4</th>\n",
       "      <td>3</td>\n",
       "      <td>CLT</td>\n",
       "      <td>Charlotte Douglas International Airport</td>\n",
       "      <td>Charlotte</td>\n",
       "      <td>1</td>\n",
       "      <td>#FF7F00</td>\n",
       "      <td>236</td>\n",
       "      <td>Charlotte</td>\n",
       "    </tr>\n",
       "  </tbody>\n",
       "</table>\n",
       "</div>"
      ],
      "text/plain": [
       "   index ORIGIN                                 airport_full_name  \\\n",
       "0      0    ATL  Hartsfield Jackson Atlanta International Airport   \n",
       "1     17    MCO                     Orlando International Airport   \n",
       "2     13    JFK              John F Kennedy International Airport   \n",
       "3     10    FLL   Fort Lauderdale Hollywood International Airport   \n",
       "4      3    CLT           Charlotte Douglas International Airport   \n",
       "\n",
       "      airport_city  group    color  size             name  \n",
       "0          Atlanta      1  #FF7F00   568          Atlanta  \n",
       "1          Orlando      1  #FF7F00   343          Orlando  \n",
       "2         New York      1  #FF7F00   255         New York  \n",
       "3  Fort Lauderdale      1  #FF7F00   248  Fort Lauderdale  \n",
       "4        Charlotte      1  #FF7F00   236        Charlotte  "
      ]
     },
     "execution_count": 57,
     "metadata": {},
     "output_type": "execute_result"
    }
   ],
   "source": [
    "flights_airports.head()"
   ]
  },
  {
   "cell_type": "code",
   "execution_count": 58,
   "metadata": {
    "collapsed": false
   },
   "outputs": [],
   "source": [
    "flights_airports.to_csv('flights-airports.csv', index=False)"
   ]
  },
  {
   "cell_type": "code",
   "execution_count": null,
   "metadata": {
    "collapsed": true
   },
   "outputs": [],
   "source": []
  },
  {
   "cell_type": "code",
   "execution_count": 59,
   "metadata": {
    "collapsed": false
   },
   "outputs": [],
   "source": [
    "total_flights = np.sum(gb['size'])"
   ]
  },
  {
   "cell_type": "code",
   "execution_count": 62,
   "metadata": {
    "collapsed": true
   },
   "outputs": [],
   "source": [
    "airports = list(flights_airports.ORIGIN)"
   ]
  },
  {
   "cell_type": "code",
   "execution_count": 63,
   "metadata": {
    "collapsed": false
   },
   "outputs": [
    {
     "data": {
      "text/plain": [
       "['ATL',\n",
       " 'MCO',\n",
       " 'JFK',\n",
       " 'FLL',\n",
       " 'CLT',\n",
       " 'BOS',\n",
       " 'BWI',\n",
       " 'MIA',\n",
       " 'EWR',\n",
       " 'LGA',\n",
       " 'TPA',\n",
       " 'DTW',\n",
       " 'PHL',\n",
       " 'DCA',\n",
       " 'DFW',\n",
       " 'ORD',\n",
       " 'MDW',\n",
       " 'MSP',\n",
       " 'IAH',\n",
       " 'DAL',\n",
       " 'DEN',\n",
       " 'SLC',\n",
       " 'LAX',\n",
       " 'PHX',\n",
       " 'LAS',\n",
       " 'SFO',\n",
       " 'SEA',\n",
       " 'SAN',\n",
       " 'PDX',\n",
       " 'HNL',\n",
       " 'OTHER']"
      ]
     },
     "execution_count": 63,
     "metadata": {},
     "output_type": "execute_result"
    }
   ],
   "source": [
    "airports"
   ]
  },
  {
   "cell_type": "code",
   "execution_count": 64,
   "metadata": {
    "collapsed": false
   },
   "outputs": [],
   "source": [
    "adj_matrix = []\n",
    "for airport_orig in airports:\n",
    "    row = []\n",
    "    for airport_dest in airports:\n",
    "        record = gb.loc[(gb.ORIGIN == airport_orig) & (gb.DEST == airport_dest), 'size']\n",
    "        if len(record) != 0:\n",
    "            row.append(record.values[0]*1.0/total_flights)\n",
    "        else:\n",
    "            row.append(0)\n",
    "    adj_matrix.append(row)"
   ]
  },
  {
   "cell_type": "code",
   "execution_count": 66,
   "metadata": {
    "collapsed": false
   },
   "outputs": [
    {
     "data": {
      "text/plain": [
       "[[0,\n",
       "  0.0018408672530169769,\n",
       "  0.00061362241767232563,\n",
       "  0.0019431376559623645,\n",
       "  0.0010227040294538761,\n",
       "  0.0010227040294538761,\n",
       "  0.0011249744323992637,\n",
       "  0.0013295152382900388,\n",
       "  0.0007158928206177132,\n",
       "  0.0017385968500715893,\n",
       "  0.0015340560441808142,\n",
       "  0.0012272448353446513,\n",
       "  0.0012272448353446513,\n",
       "  0.0010227040294538761,\n",
       "  0.0013295152382900388,\n",
       "  0.00092043362650848844,\n",
       "  0.0007158928206177132,\n",
       "  0.0011249744323992637,\n",
       "  0.00081816322356310087,\n",
       "  0.00030681120883616281,\n",
       "  0.0014317856412354264,\n",
       "  0.0007158928206177132,\n",
       "  0.0014317856412354264,\n",
       "  0.00092043362650848844,\n",
       "  0.0010227040294538761,\n",
       "  0.00081816322356310087,\n",
       "  0.00081816322356310087,\n",
       "  0.00051135201472693806,\n",
       "  0.00030681120883616281,\n",
       "  0.00010227040294538761,\n",
       "  0.028431172018817754],\n",
       " [0.0017385968500715893,\n",
       "  0,\n",
       "  0.0017385968500715893,\n",
       "  0.00020454080589077522,\n",
       "  0.00092043362650848844,\n",
       "  0.0010227040294538761,\n",
       "  0.0011249744323992637,\n",
       "  0.00092043362650848844,\n",
       "  0.0019431376559623645,\n",
       "  0.0012272448353446513,\n",
       "  0,\n",
       "  0.00081816322356310087,\n",
       "  0.0013295152382900388,\n",
       "  0.00081816322356310087,\n",
       "  0.0010227040294538761,\n",
       "  0.0014317856412354264,\n",
       "  0.0007158928206177132,\n",
       "  0.0007158928206177132,\n",
       "  0.00081816322356310087,\n",
       "  0.00030681120883616281,\n",
       "  0.0011249744323992637,\n",
       "  0.00030681120883616281,\n",
       "  0.00081816322356310087,\n",
       "  0.00040908161178155044,\n",
       "  0.00040908161178155044,\n",
       "  0.00040908161178155044,\n",
       "  0.00030681120883616281,\n",
       "  0.00030681120883616281,\n",
       "  0,\n",
       "  0,\n",
       "  0.012170177950501125],\n",
       " [0.00061362241767232563,\n",
       "  0.0017385968500715893,\n",
       "  0,\n",
       "  0.0015340560441808142,\n",
       "  0.00081816322356310087,\n",
       "  0.0012272448353446513,\n",
       "  0,\n",
       "  0.0010227040294538761,\n",
       "  0,\n",
       "  0,\n",
       "  0.00092043362650848844,\n",
       "  0.00010227040294538761,\n",
       "  0,\n",
       "  0.00010227040294538761,\n",
       "  0.00010227040294538761,\n",
       "  0.00030681120883616281,\n",
       "  0,\n",
       "  0.00030681120883616281,\n",
       "  0,\n",
       "  0,\n",
       "  0.00030681120883616281,\n",
       "  0.00051135201472693806,\n",
       "  0.0029658416854162406,\n",
       "  0.0007158928206177132,\n",
       "  0.00092043362650848844,\n",
       "  0.0017385968500715893,\n",
       "  0.00061362241767232563,\n",
       "  0.00051135201472693806,\n",
       "  0.00020454080589077522,\n",
       "  0.00020454080589077522,\n",
       "  0.0085907138474125583],\n",
       " [0.0019431376559623645,\n",
       "  0.00020454080589077522,\n",
       "  0.0015340560441808142,\n",
       "  0,\n",
       "  0.00061362241767232563,\n",
       "  0.0011249744323992637,\n",
       "  0.0014317856412354264,\n",
       "  0,\n",
       "  0.0016363264471262017,\n",
       "  0.0015340560441808142,\n",
       "  0.00051135201472693806,\n",
       "  0.00081816322356310087,\n",
       "  0.00081816322356310087,\n",
       "  0.00081816322356310087,\n",
       "  0.0007158928206177132,\n",
       "  0.0007158928206177132,\n",
       "  0.00030681120883616281,\n",
       "  0.00030681120883616281,\n",
       "  0.00061362241767232563,\n",
       "  0.00020454080589077522,\n",
       "  0.00051135201472693806,\n",
       "  0,\n",
       "  0.00051135201472693806,\n",
       "  0.00010227040294538761,\n",
       "  0.00030681120883616281,\n",
       "  0.00061362241767232563,\n",
       "  0.00020454080589077522,\n",
       "  0.00010227040294538761,\n",
       "  0,\n",
       "  0,\n",
       "  0.007158928206177132],\n",
       " [0.0011249744323992637,\n",
       "  0.0010227040294538761,\n",
       "  0.00081816322356310087,\n",
       "  0.0007158928206177132,\n",
       "  0,\n",
       "  0.00092043362650848844,\n",
       "  0.0007158928206177132,\n",
       "  0.00081816322356310087,\n",
       "  0.00092043362650848844,\n",
       "  0.00081816322356310087,\n",
       "  0.0007158928206177132,\n",
       "  0.00051135201472693806,\n",
       "  0.0011249744323992637,\n",
       "  0.00051135201472693806,\n",
       "  0.00092043362650848844,\n",
       "  0.00092043362650848844,\n",
       "  0.00010227040294538761,\n",
       "  0.00040908161178155044,\n",
       "  0.00051135201472693806,\n",
       "  0.00010227040294538761,\n",
       "  0.00051135201472693806,\n",
       "  0.00020454080589077522,\n",
       "  0.00040908161178155044,\n",
       "  0.00081816322356310087,\n",
       "  0.00030681120883616281,\n",
       "  0.00051135201472693806,\n",
       "  0.00030681120883616281,\n",
       "  0.00030681120883616281,\n",
       "  0.00010227040294538761,\n",
       "  0,\n",
       "  0.0069543874002863573],\n",
       " [0.0010227040294538761,\n",
       "  0.0010227040294538761,\n",
       "  0.0011249744323992637,\n",
       "  0.0011249744323992637,\n",
       "  0.00081816322356310087,\n",
       "  0,\n",
       "  0.0010227040294538761,\n",
       "  0.0007158928206177132,\n",
       "  0.00030681120883616281,\n",
       "  0.00020454080589077522,\n",
       "  0.00051135201472693806,\n",
       "  0.00061362241767232563,\n",
       "  0.00092043362650848844,\n",
       "  0.00061362241767232563,\n",
       "  0.00081816322356310087,\n",
       "  0.00092043362650848844,\n",
       "  0.00030681120883616281,\n",
       "  0.00030681120883616281,\n",
       "  0.00030681120883616281,\n",
       "  0.00010227040294538761,\n",
       "  0.00051135201472693806,\n",
       "  0.00020454080589077522,\n",
       "  0.00081816322356310087,\n",
       "  0.00040908161178155044,\n",
       "  0.00020454080589077522,\n",
       "  0.00092043362650848844,\n",
       "  0.00040908161178155044,\n",
       "  0.00020454080589077522,\n",
       "  0.00010227040294538761,\n",
       "  0,\n",
       "  0.0051135201472693806],\n",
       " [0.0012272448353446513,\n",
       "  0.0010227040294538761,\n",
       "  0,\n",
       "  0.0014317856412354264,\n",
       "  0.00061362241767232563,\n",
       "  0.0011249744323992637,\n",
       "  0,\n",
       "  0.00030681120883616281,\n",
       "  0,\n",
       "  0,\n",
       "  0.0007158928206177132,\n",
       "  0.00051135201472693806,\n",
       "  0,\n",
       "  0,\n",
       "  0.00040908161178155044,\n",
       "  0.00030681120883616281,\n",
       "  0.00030681120883616281,\n",
       "  0.00020454080589077522,\n",
       "  0.00020454080589077522,\n",
       "  0.00030681120883616281,\n",
       "  0.00040908161178155044,\n",
       "  0.00010227040294538761,\n",
       "  0.00061362241767232563,\n",
       "  0.00051135201472693806,\n",
       "  0.00030681120883616281,\n",
       "  0.00010227040294538761,\n",
       "  0.00010227040294538761,\n",
       "  0.00020454080589077522,\n",
       "  0,\n",
       "  0,\n",
       "  0.0089997954591941095],\n",
       " [0.0013295152382900388,\n",
       "  0.00092043362650848844,\n",
       "  0.0010227040294538761,\n",
       "  0,\n",
       "  0.00081816322356310087,\n",
       "  0.0007158928206177132,\n",
       "  0.00030681120883616281,\n",
       "  0,\n",
       "  0.00051135201472693806,\n",
       "  0.0018408672530169769,\n",
       "  0.00051135201472693806,\n",
       "  0.00051135201472693806,\n",
       "  0.00081816322356310087,\n",
       "  0.00092043362650848844,\n",
       "  0.0011249744323992637,\n",
       "  0.0012272448353446513,\n",
       "  0,\n",
       "  0.00020454080589077522,\n",
       "  0.00081816322356310087,\n",
       "  0,\n",
       "  0.00061362241767232563,\n",
       "  0.00020454080589077522,\n",
       "  0.00092043362650848844,\n",
       "  0.00040908161178155044,\n",
       "  0.00051135201472693806,\n",
       "  0.00051135201472693806,\n",
       "  0.00010227040294538761,\n",
       "  0.00020454080589077522,\n",
       "  0,\n",
       "  0,\n",
       "  0.0029658416854162406],\n",
       " [0.0007158928206177132,\n",
       "  0.0020454080589077522,\n",
       "  0,\n",
       "  0.0018408672530169769,\n",
       "  0.0010227040294538761,\n",
       "  0.00020454080589077522,\n",
       "  0,\n",
       "  0.0007158928206177132,\n",
       "  0,\n",
       "  0,\n",
       "  0.00061362241767232563,\n",
       "  0.00030681120883616281,\n",
       "  0,\n",
       "  0,\n",
       "  0.00061362241767232563,\n",
       "  0.0007158928206177132,\n",
       "  0.00030681120883616281,\n",
       "  0.00010227040294538761,\n",
       "  0.0010227040294538761,\n",
       "  0,\n",
       "  0.00061362241767232563,\n",
       "  0.00020454080589077522,\n",
       "  0.0012272448353446513,\n",
       "  0.0007158928206177132,\n",
       "  0.00030681120883616281,\n",
       "  0.0012272448353446513,\n",
       "  0.00040908161178155044,\n",
       "  0.00030681120883616281,\n",
       "  0.00020454080589077522,\n",
       "  0.00010227040294538761,\n",
       "  0.0039885457148701167],\n",
       " [0.0019431376559623645,\n",
       "  0.0014317856412354264,\n",
       "  0,\n",
       "  0.0015340560441808142,\n",
       "  0.00092043362650848844,\n",
       "  0.00030681120883616281,\n",
       "  0,\n",
       "  0.0016363264471262017,\n",
       "  0,\n",
       "  0,\n",
       "  0.00040908161178155044,\n",
       "  0.00081816322356310087,\n",
       "  0.00010227040294538761,\n",
       "  0,\n",
       "  0.00092043362650848844,\n",
       "  0.0014317856412354264,\n",
       "  0.00051135201472693806,\n",
       "  0.00061362241767232563,\n",
       "  0.00030681120883616281,\n",
       "  0.00051135201472693806,\n",
       "  0.00081816322356310087,\n",
       "  0,\n",
       "  0,\n",
       "  0,\n",
       "  0,\n",
       "  0,\n",
       "  0,\n",
       "  0,\n",
       "  0,\n",
       "  0,\n",
       "  0.0029658416854162406],\n",
       " [0.0015340560441808142,\n",
       "  0,\n",
       "  0.00092043362650848844,\n",
       "  0.00061362241767232563,\n",
       "  0.0007158928206177132,\n",
       "  0.00040908161178155044,\n",
       "  0.0007158928206177132,\n",
       "  0.00051135201472693806,\n",
       "  0.00061362241767232563,\n",
       "  0.00040908161178155044,\n",
       "  0,\n",
       "  0.0007158928206177132,\n",
       "  0.00040908161178155044,\n",
       "  0.00040908161178155044,\n",
       "  0.00061362241767232563,\n",
       "  0.00081816322356310087,\n",
       "  0.00040908161178155044,\n",
       "  0.00040908161178155044,\n",
       "  0.00061362241767232563,\n",
       "  0.00010227040294538761,\n",
       "  0.00051135201472693806,\n",
       "  0,\n",
       "  0,\n",
       "  0.00040908161178155044,\n",
       "  0.00020454080589077522,\n",
       "  0,\n",
       "  0.00010227040294538761,\n",
       "  0,\n",
       "  0,\n",
       "  0,\n",
       "  0.0047044385354878294],\n",
       " [0.0012272448353446513,\n",
       "  0.00081816322356310087,\n",
       "  0.00010227040294538761,\n",
       "  0.00081816322356310087,\n",
       "  0.00040908161178155044,\n",
       "  0.00061362241767232563,\n",
       "  0.00051135201472693806,\n",
       "  0.00051135201472693806,\n",
       "  0.00030681120883616281,\n",
       "  0.00081816322356310087,\n",
       "  0.0007158928206177132,\n",
       "  0,\n",
       "  0.00020454080589077522,\n",
       "  0.00030681120883616281,\n",
       "  0.00040908161178155044,\n",
       "  0.00040908161178155044,\n",
       "  0.00030681120883616281,\n",
       "  0.00061362241767232563,\n",
       "  0.00020454080589077522,\n",
       "  0.00010227040294538761,\n",
       "  0.00081816322356310087,\n",
       "  0.00030681120883616281,\n",
       "  0.00051135201472693806,\n",
       "  0.00081816322356310087,\n",
       "  0.0007158928206177132,\n",
       "  0.00030681120883616281,\n",
       "  0.00051135201472693806,\n",
       "  0.00020454080589077522,\n",
       "  0,\n",
       "  0,\n",
       "  0.0023522192677439147],\n",
       " [0.0012272448353446513,\n",
       "  0.0014317856412354264,\n",
       "  0,\n",
       "  0.00081816322356310087,\n",
       "  0.0007158928206177132,\n",
       "  0.0007158928206177132,\n",
       "  0,\n",
       "  0.00081816322356310087,\n",
       "  0,\n",
       "  0.00010227040294538761,\n",
       "  0.00061362241767232563,\n",
       "  0.00020454080589077522,\n",
       "  0,\n",
       "  0,\n",
       "  0.00081816322356310087,\n",
       "  0.00061362241767232563,\n",
       "  0.00030681120883616281,\n",
       "  0.00030681120883616281,\n",
       "  0.00020454080589077522,\n",
       "  0.00010227040294538761,\n",
       "  0.0007158928206177132,\n",
       "  0.00030681120883616281,\n",
       "  0.00061362241767232563,\n",
       "  0.0007158928206177132,\n",
       "  0.00040908161178155044,\n",
       "  0.00040908161178155044,\n",
       "  0.00020454080589077522,\n",
       "  0.00020454080589077522,\n",
       "  0,\n",
       "  0,\n",
       "  0.0026590304765800776],\n",
       " [0.0012272448353446513,\n",
       "  0.00081816322356310087,\n",
       "  0.00010227040294538761,\n",
       "  0.00081816322356310087,\n",
       "  0.00051135201472693806,\n",
       "  0.00061362241767232563,\n",
       "  0,\n",
       "  0.00092043362650848844,\n",
       "  0,\n",
       "  0,\n",
       "  0.00040908161178155044,\n",
       "  0.00030681120883616281,\n",
       "  0,\n",
       "  0,\n",
       "  0.00061362241767232563,\n",
       "  0.00051135201472693806,\n",
       "  0.00051135201472693806,\n",
       "  0.00020454080589077522,\n",
       "  0,\n",
       "  0.00051135201472693806,\n",
       "  0.00040908161178155044,\n",
       "  0.00010227040294538761,\n",
       "  0.00020454080589077522,\n",
       "  0.00030681120883616281,\n",
       "  0.00010227040294538761,\n",
       "  0.00020454080589077522,\n",
       "  0.00020454080589077522,\n",
       "  0,\n",
       "  0.00010227040294538761,\n",
       "  0,\n",
       "  0.0029658416854162406],\n",
       " [0.0013295152382900388,\n",
       "  0.0011249744323992637,\n",
       "  0.00010227040294538761,\n",
       "  0.0007158928206177132,\n",
       "  0.00092043362650848844,\n",
       "  0.0007158928206177132,\n",
       "  0.00040908161178155044,\n",
       "  0.0012272448353446513,\n",
       "  0.0007158928206177132,\n",
       "  0.00081816322356310087,\n",
       "  0.00061362241767232563,\n",
       "  0.00030681120883616281,\n",
       "  0.00081816322356310087,\n",
       "  0.00051135201472693806,\n",
       "  0,\n",
       "  0.0012272448353446513,\n",
       "  0,\n",
       "  0.00051135201472693806,\n",
       "  0.00051135201472693806,\n",
       "  0,\n",
       "  0.0012272448353446513,\n",
       "  0.00061362241767232563,\n",
       "  0.0014317856412354264,\n",
       "  0.0011249744323992637,\n",
       "  0.0010227040294538761,\n",
       "  0.00061362241767232563,\n",
       "  0.00092043362650848844,\n",
       "  0.0007158928206177132,\n",
       "  0.00051135201472693806,\n",
       "  0.00020454080589077522,\n",
       "  0.013090611577009614],\n",
       " [0.0011249744323992637,\n",
       "  0.0015340560441808142,\n",
       "  0.00030681120883616281,\n",
       "  0.00092043362650848844,\n",
       "  0.00081816322356310087,\n",
       "  0.0011249744323992637,\n",
       "  0.00020454080589077522,\n",
       "  0.0012272448353446513,\n",
       "  0.0007158928206177132,\n",
       "  0.0012272448353446513,\n",
       "  0.00092043362650848844,\n",
       "  0.00030681120883616281,\n",
       "  0.00061362241767232563,\n",
       "  0.00061362241767232563,\n",
       "  0.0011249744323992637,\n",
       "  0,\n",
       "  0,\n",
       "  0.00061362241767232563,\n",
       "  0.00092043362650848844,\n",
       "  0,\n",
       "  0.0018408672530169769,\n",
       "  0.00020454080589077522,\n",
       "  0.0022499488647985274,\n",
       "  0.0014317856412354264,\n",
       "  0.00081816322356310087,\n",
       "  0.0014317856412354264,\n",
       "  0.0010227040294538761,\n",
       "  0.00092043362650848844,\n",
       "  0.00061362241767232563,\n",
       "  0.00010227040294538761,\n",
       "  0.006545305788504807],\n",
       " [0.00061362241767232563,\n",
       "  0.0007158928206177132,\n",
       "  0,\n",
       "  0.00030681120883616281,\n",
       "  0.00010227040294538761,\n",
       "  0.00020454080589077522,\n",
       "  0.00030681120883616281,\n",
       "  0,\n",
       "  0.00030681120883616281,\n",
       "  0.00051135201472693806,\n",
       "  0.00040908161178155044,\n",
       "  0.00030681120883616281,\n",
       "  0.00030681120883616281,\n",
       "  0.00040908161178155044,\n",
       "  0,\n",
       "  0,\n",
       "  0,\n",
       "  0.00051135201472693806,\n",
       "  0,\n",
       "  0.00051135201472693806,\n",
       "  0.00061362241767232563,\n",
       "  0.00020454080589077522,\n",
       "  0.00040908161178155044,\n",
       "  0.0007158928206177132,\n",
       "  0.0007158928206177132,\n",
       "  0.00010227040294538761,\n",
       "  0.00020454080589077522,\n",
       "  0.00030681120883616281,\n",
       "  0.00030681120883616281,\n",
       "  0,\n",
       "  0.0088975250562487208],\n",
       " [0.0012272448353446513,\n",
       "  0.0007158928206177132,\n",
       "  0.00030681120883616281,\n",
       "  0.00030681120883616281,\n",
       "  0.00030681120883616281,\n",
       "  0.00030681120883616281,\n",
       "  0.00020454080589077522,\n",
       "  0.00020454080589077522,\n",
       "  0.00010227040294538761,\n",
       "  0.00061362241767232563,\n",
       "  0.00040908161178155044,\n",
       "  0.00061362241767232563,\n",
       "  0.00030681120883616281,\n",
       "  0.00020454080589077522,\n",
       "  0.00051135201472693806,\n",
       "  0.00092043362650848844,\n",
       "  0.00051135201472693806,\n",
       "  0,\n",
       "  0.00010227040294538761,\n",
       "  0,\n",
       "  0.0011249744323992637,\n",
       "  0.00040908161178155044,\n",
       "  0.00081816322356310087,\n",
       "  0.0010227040294538761,\n",
       "  0.00051135201472693806,\n",
       "  0.00030681120883616281,\n",
       "  0.0007158928206177132,\n",
       "  0.00020454080589077522,\n",
       "  0.00030681120883616281,\n",
       "  0.00010227040294538761,\n",
       "  0.0039885457148701167],\n",
       " [0.0007158928206177132,\n",
       "  0.00081816322356310087,\n",
       "  0,\n",
       "  0.00061362241767232563,\n",
       "  0.00051135201472693806,\n",
       "  0.00020454080589077522,\n",
       "  0.00020454080589077522,\n",
       "  0.00081816322356310087,\n",
       "  0.0007158928206177132,\n",
       "  0.00010227040294538761,\n",
       "  0.00061362241767232563,\n",
       "  0.00020454080589077522,\n",
       "  0,\n",
       "  0.00010227040294538761,\n",
       "  0.00061362241767232563,\n",
       "  0.00092043362650848844,\n",
       "  0,\n",
       "  0.00010227040294538761,\n",
       "  0,\n",
       "  0,\n",
       "  0.0012272448353446513,\n",
       "  0.00020454080589077522,\n",
       "  0.0014317856412354264,\n",
       "  0.00061362241767232563,\n",
       "  0.00081816322356310087,\n",
       "  0.00092043362650848844,\n",
       "  0.00061362241767232563,\n",
       "  0.00051135201472693806,\n",
       "  0.00020454080589077522,\n",
       "  0.00010227040294538761,\n",
       "  0.0030681120883616284],\n",
       " [0.00051135201472693806,\n",
       "  0.00030681120883616281,\n",
       "  0,\n",
       "  0.00020454080589077522,\n",
       "  0.00010227040294538761,\n",
       "  0.00010227040294538761,\n",
       "  0.00030681120883616281,\n",
       "  0,\n",
       "  0,\n",
       "  0.00051135201472693806,\n",
       "  0.00010227040294538761,\n",
       "  0.00010227040294538761,\n",
       "  0.00010227040294538761,\n",
       "  0.00051135201472693806,\n",
       "  0,\n",
       "  0,\n",
       "  0.00051135201472693806,\n",
       "  0,\n",
       "  0,\n",
       "  0,\n",
       "  0.00051135201472693806,\n",
       "  0.00020454080589077522,\n",
       "  0.00051135201472693806,\n",
       "  0.00040908161178155044,\n",
       "  0.00051135201472693806,\n",
       "  0.00030681120883616281,\n",
       "  0.00010227040294538761,\n",
       "  0.00020454080589077522,\n",
       "  0.00010227040294538761,\n",
       "  0,\n",
       "  0.0075680098179586831],\n",
       " [0.0012272448353446513,\n",
       "  0.0011249744323992637,\n",
       "  0.00030681120883616281,\n",
       "  0.00040908161178155044,\n",
       "  0.00051135201472693806,\n",
       "  0.00061362241767232563,\n",
       "  0.00040908161178155044,\n",
       "  0.00061362241767232563,\n",
       "  0.00081816322356310087,\n",
       "  0.00092043362650848844,\n",
       "  0.00040908161178155044,\n",
       "  0.00081816322356310087,\n",
       "  0.0007158928206177132,\n",
       "  0.00040908161178155044,\n",
       "  0.0012272448353446513,\n",
       "  0.0014317856412354264,\n",
       "  0.00061362241767232563,\n",
       "  0.00092043362650848844,\n",
       "  0.0010227040294538761,\n",
       "  0.00051135201472693806,\n",
       "  0,\n",
       "  0.00092043362650848844,\n",
       "  0.0015340560441808142,\n",
       "  0.0019431376559623645,\n",
       "  0.0017385968500715893,\n",
       "  0.0017385968500715893,\n",
       "  0.0013295152382900388,\n",
       "  0.0010227040294538761,\n",
       "  0.00061362241767232563,\n",
       "  0.00010227040294538761,\n",
       "  0.0123747187563919],\n",
       " [0.0007158928206177132,\n",
       "  0.00030681120883616281,\n",
       "  0.00051135201472693806,\n",
       "  0,\n",
       "  0.00020454080589077522,\n",
       "  0.00020454080589077522,\n",
       "  0.00010227040294538761,\n",
       "  0.00020454080589077522,\n",
       "  0.00020454080589077522,\n",
       "  0,\n",
       "  0,\n",
       "  0.00030681120883616281,\n",
       "  0.00020454080589077522,\n",
       "  0.00010227040294538761,\n",
       "  0.00061362241767232563,\n",
       "  0.00020454080589077522,\n",
       "  0.00020454080589077522,\n",
       "  0.00040908161178155044,\n",
       "  0.00030681120883616281,\n",
       "  0.00020454080589077522,\n",
       "  0.0010227040294538761,\n",
       "  0,\n",
       "  0.00092043362650848844,\n",
       "  0.0010227040294538761,\n",
       "  0.00081816322356310087,\n",
       "  0.00051135201472693806,\n",
       "  0.00081816322356310087,\n",
       "  0.00061362241767232563,\n",
       "  0.00051135201472693806,\n",
       "  0.00010227040294538761,\n",
       "  0.0025567600736346903],\n",
       " [0.0012272448353446513,\n",
       "  0.00081816322356310087,\n",
       "  0.0028635712824708528,\n",
       "  0.00040908161178155044,\n",
       "  0.00040908161178155044,\n",
       "  0.0007158928206177132,\n",
       "  0.00040908161178155044,\n",
       "  0.00092043362650848844,\n",
       "  0.0011249744323992637,\n",
       "  0,\n",
       "  0.00010227040294538761,\n",
       "  0.00051135201472693806,\n",
       "  0.00061362241767232563,\n",
       "  0.00020454080589077522,\n",
       "  0.0014317856412354264,\n",
       "  0.0022499488647985274,\n",
       "  0.00040908161178155044,\n",
       "  0.00081816322356310087,\n",
       "  0.0013295152382900388,\n",
       "  0.00051135201472693806,\n",
       "  0.0014317856412354264,\n",
       "  0.00092043362650848844,\n",
       "  0,\n",
       "  0.0014317856412354264,\n",
       "  0.0026590304765800776,\n",
       "  0.0026590304765800776,\n",
       "  0.0023522192677439147,\n",
       "  0,\n",
       "  0.0011249744323992637,\n",
       "  0.0019431376559623645,\n",
       "  0.010636121906320311],\n",
       " [0.0010227040294538761,\n",
       "  0.00051135201472693806,\n",
       "  0.0007158928206177132,\n",
       "  0.00010227040294538761,\n",
       "  0.00092043362650848844,\n",
       "  0.00040908161178155044,\n",
       "  0.00061362241767232563,\n",
       "  0.00040908161178155044,\n",
       "  0.0007158928206177132,\n",
       "  0,\n",
       "  0.00051135201472693806,\n",
       "  0.00081816322356310087,\n",
       "  0.00081816322356310087,\n",
       "  0.00030681120883616281,\n",
       "  0.0011249744323992637,\n",
       "  0.0014317856412354264,\n",
       "  0.00061362241767232563,\n",
       "  0.0011249744323992637,\n",
       "  0.0007158928206177132,\n",
       "  0.00040908161178155044,\n",
       "  0.0019431376559623645,\n",
       "  0.0011249744323992637,\n",
       "  0.0013295152382900388,\n",
       "  0,\n",
       "  0.0012272448353446513,\n",
       "  0.0010227040294538761,\n",
       "  0.0014317856412354264,\n",
       "  0.0013295152382900388,\n",
       "  0.00081816322356310087,\n",
       "  0.00040908161178155044,\n",
       "  0.01278380036817345],\n",
       " [0.0011249744323992637,\n",
       "  0.00040908161178155044,\n",
       "  0.00081816322356310087,\n",
       "  0.00030681120883616281,\n",
       "  0.00030681120883616281,\n",
       "  0.00020454080589077522,\n",
       "  0.00040908161178155044,\n",
       "  0.00051135201472693806,\n",
       "  0.00030681120883616281,\n",
       "  0,\n",
       "  0.00020454080589077522,\n",
       "  0.0007158928206177132,\n",
       "  0.00040908161178155044,\n",
       "  0.00010227040294538761,\n",
       "  0.0010227040294538761,\n",
       "  0.00092043362650848844,\n",
       "  0.0007158928206177132,\n",
       "  0.00051135201472693806,\n",
       "  0.00081816322356310087,\n",
       "  0.00051135201472693806,\n",
       "  0.0016363264471262017,\n",
       "  0.00081816322356310087,\n",
       "  0.0026590304765800776,\n",
       "  0.0014317856412354264,\n",
       "  0,\n",
       "  0.0019431376559623645,\n",
       "  0.0016363264471262017,\n",
       "  0.0011249744323992637,\n",
       "  0.00081816322356310087,\n",
       "  0.00020454080589077522,\n",
       "  0.012681529965228063],\n",
       " [0.00081816322356310087,\n",
       "  0.00040908161178155044,\n",
       "  0.0017385968500715893,\n",
       "  0.00061362241767232563,\n",
       "  0.00051135201472693806,\n",
       "  0.00081816322356310087,\n",
       "  0,\n",
       "  0.00051135201472693806,\n",
       "  0.0012272448353446513,\n",
       "  0,\n",
       "  0,\n",
       "  0.00030681120883616281,\n",
       "  0.00040908161178155044,\n",
       "  0.00020454080589077522,\n",
       "  0.00061362241767232563,\n",
       "  0.0014317856412354264,\n",
       "  0.00010227040294538761,\n",
       "  0.00030681120883616281,\n",
       "  0.00081816322356310087,\n",
       "  0.00030681120883616281,\n",
       "  0.0015340560441808142,\n",
       "  0.00051135201472693806,\n",
       "  0.0028635712824708528,\n",
       "  0.0010227040294538761,\n",
       "  0.0017385968500715893,\n",
       "  0,\n",
       "  0.0017385968500715893,\n",
       "  0.0013295152382900388,\n",
       "  0.00092043362650848844,\n",
       "  0.0007158928206177132,\n",
       "  0.0042953569237062792],\n",
       " [0.00081816322356310087,\n",
       "  0.00030681120883616281,\n",
       "  0.00061362241767232563,\n",
       "  0.00010227040294538761,\n",
       "  0.00030681120883616281,\n",
       "  0.00040908161178155044,\n",
       "  0.00010227040294538761,\n",
       "  0.00010227040294538761,\n",
       "  0.00040908161178155044,\n",
       "  0,\n",
       "  0.00010227040294538761,\n",
       "  0.00051135201472693806,\n",
       "  0.00020454080589077522,\n",
       "  0.00020454080589077522,\n",
       "  0.00092043362650848844,\n",
       "  0.0011249744323992637,\n",
       "  0.00020454080589077522,\n",
       "  0.00061362241767232563,\n",
       "  0.00051135201472693806,\n",
       "  0.00010227040294538761,\n",
       "  0.0013295152382900388,\n",
       "  0.0007158928206177132,\n",
       "  0.0024544896706893025,\n",
       "  0.0015340560441808142,\n",
       "  0.0015340560441808142,\n",
       "  0.0015340560441808142,\n",
       "  0,\n",
       "  0.0007158928206177132,\n",
       "  0.00030681120883616281,\n",
       "  0.00051135201472693806,\n",
       "  0.008692984250357947],\n",
       " [0.00051135201472693806,\n",
       "  0.00030681120883616281,\n",
       "  0.00051135201472693806,\n",
       "  0.00010227040294538761,\n",
       "  0.00030681120883616281,\n",
       "  0.00020454080589077522,\n",
       "  0.00020454080589077522,\n",
       "  0.00020454080589077522,\n",
       "  0.00030681120883616281,\n",
       "  0,\n",
       "  0,\n",
       "  0.00020454080589077522,\n",
       "  0.00020454080589077522,\n",
       "  0,\n",
       "  0.0007158928206177132,\n",
       "  0.00092043362650848844,\n",
       "  0.00030681120883616281,\n",
       "  0.00020454080589077522,\n",
       "  0.00040908161178155044,\n",
       "  0.00020454080589077522,\n",
       "  0.0010227040294538761,\n",
       "  0.00061362241767232563,\n",
       "  0,\n",
       "  0.0013295152382900388,\n",
       "  0.0010227040294538761,\n",
       "  0.0014317856412354264,\n",
       "  0.0007158928206177132,\n",
       "  0,\n",
       "  0.00061362241767232563,\n",
       "  0.00020454080589077522,\n",
       "  0.0042953569237062792],\n",
       " [0.00030681120883616281,\n",
       "  0,\n",
       "  0.00020454080589077522,\n",
       "  0,\n",
       "  0.00010227040294538761,\n",
       "  0.00010227040294538761,\n",
       "  0,\n",
       "  0,\n",
       "  0.00020454080589077522,\n",
       "  0,\n",
       "  0,\n",
       "  0,\n",
       "  0,\n",
       "  0.00010227040294538761,\n",
       "  0.00061362241767232563,\n",
       "  0.00061362241767232563,\n",
       "  0.00030681120883616281,\n",
       "  0.00030681120883616281,\n",
       "  0.00020454080589077522,\n",
       "  0.00010227040294538761,\n",
       "  0.00061362241767232563,\n",
       "  0.00051135201472693806,\n",
       "  0.0010227040294538761,\n",
       "  0.00081816322356310087,\n",
       "  0.00081816322356310087,\n",
       "  0.0010227040294538761,\n",
       "  0.00020454080589077522,\n",
       "  0.00061362241767232563,\n",
       "  0,\n",
       "  0.00030681120883616281,\n",
       "  0.0030681120883616284],\n",
       " [0.00010227040294538761,\n",
       "  0,\n",
       "  0.00020454080589077522,\n",
       "  0,\n",
       "  0,\n",
       "  0,\n",
       "  0,\n",
       "  0,\n",
       "  0.00010227040294538761,\n",
       "  0,\n",
       "  0,\n",
       "  0,\n",
       "  0,\n",
       "  0,\n",
       "  0.00020454080589077522,\n",
       "  0.00010227040294538761,\n",
       "  0,\n",
       "  0.00010227040294538761,\n",
       "  0.00010227040294538761,\n",
       "  0,\n",
       "  0.00010227040294538761,\n",
       "  0.00010227040294538761,\n",
       "  0.0018408672530169769,\n",
       "  0.00040908161178155044,\n",
       "  0.00020454080589077522,\n",
       "  0.00081816322356310087,\n",
       "  0.00051135201472693806,\n",
       "  0.00020454080589077522,\n",
       "  0.00030681120883616281,\n",
       "  0,\n",
       "  0.0078748210267948447],\n",
       " [0.028942524033544692,\n",
       "  0.012067907547555738,\n",
       "  0.009306606668030272,\n",
       "  0.007056657803231745,\n",
       "  0.0060339537737778689,\n",
       "  0.0052157905502147675,\n",
       "  0.0091020658621394964,\n",
       "  0.0030681120883616284,\n",
       "  0.0037840049089793415,\n",
       "  0.0029658416854162406,\n",
       "  0.0047044385354878294,\n",
       "  0.0026590304765800776,\n",
       "  0.0025567600736346903,\n",
       "  0.0029658416854162406,\n",
       "  0.012988341174064225,\n",
       "  0.0067498465943955817,\n",
       "  0.008692984250357947,\n",
       "  0.0041930865207608914,\n",
       "  0.0034771937001431786,\n",
       "  0.00767028022090407,\n",
       "  0.013090611577009614,\n",
       "  0.0027613008795254654,\n",
       "  0.011045203518101862,\n",
       "  0.012579259562282676,\n",
       "  0.012886070771118838,\n",
       "  0.0047044385354878294,\n",
       "  0.0091020658621394964,\n",
       "  0.0040908161178155045,\n",
       "  0.0031703824913070157,\n",
       "  0.0077725506238494578,\n",
       "  0.051032931069748412]]"
      ]
     },
     "execution_count": 66,
     "metadata": {},
     "output_type": "execute_result"
    }
   ],
   "source": [
    "adj_matrix"
   ]
  },
  {
   "cell_type": "code",
   "execution_count": 67,
   "metadata": {
    "collapsed": false
   },
   "outputs": [],
   "source": [
    "text_file = open(\"flights-matrix.json\", \"w\")\n",
    "text_file.write(str(adj_matrix))\n",
    "text_file.close()"
   ]
  },
  {
   "cell_type": "code",
   "execution_count": null,
   "metadata": {
    "collapsed": true
   },
   "outputs": [],
   "source": []
  },
  {
   "cell_type": "code",
   "execution_count": null,
   "metadata": {
    "collapsed": true
   },
   "outputs": [],
   "source": []
  }
 ],
 "metadata": {
  "anaconda-cloud": {},
  "kernelspec": {
   "display_name": "Python [conda root]",
   "language": "python",
   "name": "conda-root-py"
  },
  "language_info": {
   "codemirror_mode": {
    "name": "ipython",
    "version": 2
   },
   "file_extension": ".py",
   "mimetype": "text/x-python",
   "name": "python",
   "nbconvert_exporter": "python",
   "pygments_lexer": "ipython2",
   "version": "2.7.12"
  }
 },
 "nbformat": 4,
 "nbformat_minor": 1
}
