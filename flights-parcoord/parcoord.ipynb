{
 "cells": [
  {
   "cell_type": "code",
   "execution_count": 3,
   "metadata": {
    "collapsed": true
   },
   "outputs": [],
   "source": [
    "import pandas as pd"
   ]
  },
  {
   "cell_type": "code",
   "execution_count": 4,
   "metadata": {
    "collapsed": true
   },
   "outputs": [],
   "source": [
    "data_list = [\"jan.csv\", \"feb.csv\", \"mar.csv\", \"apr.csv\", \"may.csv\", \"jun.csv\", \"jul.csv\", \"aug.csv\", \"sep.csv\",\n",
    "             \"oct.csv\", \"nov.csv\", \"dec.csv\"]"
   ]
  },
  {
   "cell_type": "code",
   "execution_count": 6,
   "metadata": {
    "collapsed": false
   },
   "outputs": [],
   "source": [
    "list_ = []\n",
    "for file_ in data_list:\n",
    "    df = pd.read_csv(file_,index_col=None, header=0)\n",
    "    list_.append(df)\n",
    "frame = pd.concat(list_)"
   ]
  },
  {
   "cell_type": "code",
   "execution_count": 7,
   "metadata": {
    "collapsed": false
   },
   "outputs": [
    {
     "data": {
      "text/html": [
       "<div>\n",
       "<table border=\"1\" class=\"dataframe\">\n",
       "  <thead>\n",
       "    <tr style=\"text-align: right;\">\n",
       "      <th></th>\n",
       "      <th>YEAR</th>\n",
       "      <th>QUARTER</th>\n",
       "      <th>MONTH</th>\n",
       "      <th>DAY_OF_MONTH</th>\n",
       "      <th>DAY_OF_WEEK</th>\n",
       "      <th>FL_DATE</th>\n",
       "      <th>UNIQUE_CARRIER</th>\n",
       "      <th>ORIGIN_AIRPORT_ID</th>\n",
       "      <th>ORIGIN_AIRPORT_SEQ_ID</th>\n",
       "      <th>ORIGIN_CITY_MARKET_ID</th>\n",
       "      <th>...</th>\n",
       "      <th>DEP_TIME</th>\n",
       "      <th>DEP_DELAY</th>\n",
       "      <th>TAXI_OUT</th>\n",
       "      <th>TAXI_IN</th>\n",
       "      <th>ARR_TIME</th>\n",
       "      <th>ARR_DELAY</th>\n",
       "      <th>CANCELLED</th>\n",
       "      <th>AIR_TIME</th>\n",
       "      <th>DISTANCE</th>\n",
       "      <th>Unnamed: 29</th>\n",
       "    </tr>\n",
       "  </thead>\n",
       "  <tbody>\n",
       "    <tr>\n",
       "      <th>0</th>\n",
       "      <td>2016</td>\n",
       "      <td>1</td>\n",
       "      <td>1</td>\n",
       "      <td>1</td>\n",
       "      <td>5</td>\n",
       "      <td>2016-01-01</td>\n",
       "      <td>DL</td>\n",
       "      <td>11433</td>\n",
       "      <td>1143302</td>\n",
       "      <td>31295</td>\n",
       "      <td>...</td>\n",
       "      <td>1935.0</td>\n",
       "      <td>0.0</td>\n",
       "      <td>23.0</td>\n",
       "      <td>13.0</td>\n",
       "      <td>2120.0</td>\n",
       "      <td>-24.0</td>\n",
       "      <td>0.0</td>\n",
       "      <td>249.0</td>\n",
       "      <td>1979.0</td>\n",
       "      <td>NaN</td>\n",
       "    </tr>\n",
       "    <tr>\n",
       "      <th>1</th>\n",
       "      <td>2016</td>\n",
       "      <td>1</td>\n",
       "      <td>1</td>\n",
       "      <td>1</td>\n",
       "      <td>5</td>\n",
       "      <td>2016-01-01</td>\n",
       "      <td>DL</td>\n",
       "      <td>10397</td>\n",
       "      <td>1039705</td>\n",
       "      <td>30397</td>\n",
       "      <td>...</td>\n",
       "      <td>2130.0</td>\n",
       "      <td>5.0</td>\n",
       "      <td>13.0</td>\n",
       "      <td>4.0</td>\n",
       "      <td>2319.0</td>\n",
       "      <td>-2.0</td>\n",
       "      <td>0.0</td>\n",
       "      <td>92.0</td>\n",
       "      <td>640.0</td>\n",
       "      <td>NaN</td>\n",
       "    </tr>\n",
       "    <tr>\n",
       "      <th>2</th>\n",
       "      <td>2016</td>\n",
       "      <td>1</td>\n",
       "      <td>1</td>\n",
       "      <td>1</td>\n",
       "      <td>5</td>\n",
       "      <td>2016-01-01</td>\n",
       "      <td>DL</td>\n",
       "      <td>12892</td>\n",
       "      <td>1289203</td>\n",
       "      <td>32575</td>\n",
       "      <td>...</td>\n",
       "      <td>2256.0</td>\n",
       "      <td>1.0</td>\n",
       "      <td>19.0</td>\n",
       "      <td>5.0</td>\n",
       "      <td>547.0</td>\n",
       "      <td>-13.0</td>\n",
       "      <td>0.0</td>\n",
       "      <td>207.0</td>\n",
       "      <td>1947.0</td>\n",
       "      <td>NaN</td>\n",
       "    </tr>\n",
       "    <tr>\n",
       "      <th>3</th>\n",
       "      <td>2016</td>\n",
       "      <td>1</td>\n",
       "      <td>1</td>\n",
       "      <td>1</td>\n",
       "      <td>5</td>\n",
       "      <td>2016-01-01</td>\n",
       "      <td>DL</td>\n",
       "      <td>14869</td>\n",
       "      <td>1486903</td>\n",
       "      <td>34614</td>\n",
       "      <td>...</td>\n",
       "      <td>1700.0</td>\n",
       "      <td>4.0</td>\n",
       "      <td>12.0</td>\n",
       "      <td>8.0</td>\n",
       "      <td>2213.0</td>\n",
       "      <td>-16.0</td>\n",
       "      <td>0.0</td>\n",
       "      <td>173.0</td>\n",
       "      <td>1590.0</td>\n",
       "      <td>NaN</td>\n",
       "    </tr>\n",
       "    <tr>\n",
       "      <th>4</th>\n",
       "      <td>2016</td>\n",
       "      <td>1</td>\n",
       "      <td>1</td>\n",
       "      <td>1</td>\n",
       "      <td>5</td>\n",
       "      <td>2016-01-01</td>\n",
       "      <td>DL</td>\n",
       "      <td>10849</td>\n",
       "      <td>1084903</td>\n",
       "      <td>30849</td>\n",
       "      <td>...</td>\n",
       "      <td>1012.0</td>\n",
       "      <td>72.0</td>\n",
       "      <td>63.0</td>\n",
       "      <td>4.0</td>\n",
       "      <td>1420.0</td>\n",
       "      <td>124.0</td>\n",
       "      <td>0.0</td>\n",
       "      <td>121.0</td>\n",
       "      <td>874.0</td>\n",
       "      <td>NaN</td>\n",
       "    </tr>\n",
       "  </tbody>\n",
       "</table>\n",
       "<p>5 rows × 30 columns</p>\n",
       "</div>"
      ],
      "text/plain": [
       "   YEAR  QUARTER  MONTH  DAY_OF_MONTH  DAY_OF_WEEK     FL_DATE UNIQUE_CARRIER  \\\n",
       "0  2016        1      1             1            5  2016-01-01             DL   \n",
       "1  2016        1      1             1            5  2016-01-01             DL   \n",
       "2  2016        1      1             1            5  2016-01-01             DL   \n",
       "3  2016        1      1             1            5  2016-01-01             DL   \n",
       "4  2016        1      1             1            5  2016-01-01             DL   \n",
       "\n",
       "   ORIGIN_AIRPORT_ID  ORIGIN_AIRPORT_SEQ_ID  ORIGIN_CITY_MARKET_ID  \\\n",
       "0              11433                1143302                  31295   \n",
       "1              10397                1039705                  30397   \n",
       "2              12892                1289203                  32575   \n",
       "3              14869                1486903                  34614   \n",
       "4              10849                1084903                  30849   \n",
       "\n",
       "      ...     DEP_TIME DEP_DELAY TAXI_OUT TAXI_IN  ARR_TIME  ARR_DELAY  \\\n",
       "0     ...       1935.0       0.0     23.0    13.0    2120.0      -24.0   \n",
       "1     ...       2130.0       5.0     13.0     4.0    2319.0       -2.0   \n",
       "2     ...       2256.0       1.0     19.0     5.0     547.0      -13.0   \n",
       "3     ...       1700.0       4.0     12.0     8.0    2213.0      -16.0   \n",
       "4     ...       1012.0      72.0     63.0     4.0    1420.0      124.0   \n",
       "\n",
       "   CANCELLED AIR_TIME DISTANCE Unnamed: 29  \n",
       "0        0.0    249.0   1979.0         NaN  \n",
       "1        0.0     92.0    640.0         NaN  \n",
       "2        0.0    207.0   1947.0         NaN  \n",
       "3        0.0    173.0   1590.0         NaN  \n",
       "4        0.0    121.0    874.0         NaN  \n",
       "\n",
       "[5 rows x 30 columns]"
      ]
     },
     "execution_count": 7,
     "metadata": {},
     "output_type": "execute_result"
    }
   ],
   "source": [
    "frame.head()"
   ]
  },
  {
   "cell_type": "code",
   "execution_count": 8,
   "metadata": {
    "collapsed": false
   },
   "outputs": [
    {
     "data": {
      "text/plain": [
       "Index([u'YEAR', u'QUARTER', u'MONTH', u'DAY_OF_MONTH', u'DAY_OF_WEEK',\n",
       "       u'FL_DATE', u'UNIQUE_CARRIER', u'ORIGIN_AIRPORT_ID',\n",
       "       u'ORIGIN_AIRPORT_SEQ_ID', u'ORIGIN_CITY_MARKET_ID', u'ORIGIN',\n",
       "       u'ORIGIN_CITY_NAME', u'ORIGIN_STATE_ABR', u'ORIGIN_STATE_NM',\n",
       "       u'DEST_AIRPORT_ID', u'DEST_AIRPORT_SEQ_ID', u'DEST_CITY_MARKET_ID',\n",
       "       u'DEST', u'DEST_CITY_NAME', u'DEST_STATE_NM', u'DEP_TIME', u'DEP_DELAY',\n",
       "       u'TAXI_OUT', u'TAXI_IN', u'ARR_TIME', u'ARR_DELAY', u'CANCELLED',\n",
       "       u'AIR_TIME', u'DISTANCE', u'Unnamed: 29'],\n",
       "      dtype='object')"
      ]
     },
     "execution_count": 8,
     "metadata": {},
     "output_type": "execute_result"
    }
   ],
   "source": [
    "frame.columns"
   ]
  },
  {
   "cell_type": "code",
   "execution_count": 19,
   "metadata": {
    "collapsed": false
   },
   "outputs": [
    {
     "data": {
      "text/plain": [
       "YEAR                                 2016\n",
       "QUARTER                                 1\n",
       "MONTH                                   1\n",
       "DAY_OF_MONTH                            1\n",
       "DAY_OF_WEEK                             5\n",
       "FL_DATE                        2016-01-01\n",
       "UNIQUE_CARRIER                         DL\n",
       "ORIGIN_AIRPORT_ID                   10397\n",
       "ORIGIN_AIRPORT_SEQ_ID             1039705\n",
       "ORIGIN_CITY_MARKET_ID               30397\n",
       "ORIGIN                                ATL\n",
       "ORIGIN_CITY_NAME              Atlanta, GA\n",
       "ORIGIN_STATE_ABR                       GA\n",
       "ORIGIN_STATE_NM                   Georgia\n",
       "DEST_AIRPORT_ID                     11986\n",
       "DEST_AIRPORT_SEQ_ID               1198603\n",
       "DEST_CITY_MARKET_ID                 31986\n",
       "DEST                                  GRR\n",
       "DEST_CITY_NAME           Grand Rapids, MI\n",
       "DEST_STATE_NM                    Michigan\n",
       "DEP_TIME                             2130\n",
       "DEP_DELAY                               5\n",
       "TAXI_OUT                               13\n",
       "TAXI_IN                                 4\n",
       "ARR_TIME                             2319\n",
       "ARR_DELAY                              -2\n",
       "CANCELLED                               0\n",
       "AIR_TIME                               92\n",
       "DISTANCE                              640\n",
       "Unnamed: 29                           NaN\n",
       "Name: 1, dtype: object"
      ]
     },
     "execution_count": 19,
     "metadata": {},
     "output_type": "execute_result"
    }
   ],
   "source": [
    "frame.iloc[1, :]"
   ]
  },
  {
   "cell_type": "code",
   "execution_count": 10,
   "metadata": {
    "collapsed": false,
    "scrolled": true
   },
   "outputs": [
    {
     "data": {
      "text/plain": [
       "(5617658, 30)"
      ]
     },
     "execution_count": 10,
     "metadata": {},
     "output_type": "execute_result"
    }
   ],
   "source": [
    "frame.shape"
   ]
  },
  {
   "cell_type": "code",
   "execution_count": 17,
   "metadata": {
    "collapsed": false
   },
   "outputs": [],
   "source": [
    "frame.drop(['Unnamed: 29'], inplace=True)"
   ]
  },
  {
   "cell_type": "code",
   "execution_count": 20,
   "metadata": {
    "collapsed": true
   },
   "outputs": [],
   "source": [
    "del frame['Unnamed: 29']"
   ]
  },
  {
   "cell_type": "code",
   "execution_count": 23,
   "metadata": {
    "collapsed": false
   },
   "outputs": [
    {
     "data": {
      "text/plain": [
       "Index([u'YEAR', u'QUARTER', u'MONTH', u'DAY_OF_MONTH', u'DAY_OF_WEEK',\n",
       "       u'FL_DATE', u'UNIQUE_CARRIER', u'ORIGIN_AIRPORT_ID',\n",
       "       u'ORIGIN_AIRPORT_SEQ_ID', u'ORIGIN_CITY_MARKET_ID', u'ORIGIN',\n",
       "       u'ORIGIN_CITY_NAME', u'ORIGIN_STATE_ABR', u'ORIGIN_STATE_NM',\n",
       "       u'DEST_AIRPORT_ID', u'DEST_AIRPORT_SEQ_ID', u'DEST_CITY_MARKET_ID',\n",
       "       u'DEST', u'DEST_CITY_NAME', u'DEST_STATE_NM', u'DEP_TIME', u'DEP_DELAY',\n",
       "       u'TAXI_OUT', u'TAXI_IN', u'ARR_TIME', u'ARR_DELAY', u'CANCELLED',\n",
       "       u'AIR_TIME', u'DISTANCE'],\n",
       "      dtype='object')"
      ]
     },
     "execution_count": 23,
     "metadata": {},
     "output_type": "execute_result"
    }
   ],
   "source": [
    "frame.columns"
   ]
  },
  {
   "cell_type": "code",
   "execution_count": 24,
   "metadata": {
    "collapsed": true
   },
   "outputs": [],
   "source": [
    "frame = frame[frame.notnull()]"
   ]
  },
  {
   "cell_type": "code",
   "execution_count": 25,
   "metadata": {
    "collapsed": false
   },
   "outputs": [
    {
     "data": {
      "text/plain": [
       "(5617658, 29)"
      ]
     },
     "execution_count": 25,
     "metadata": {},
     "output_type": "execute_result"
    }
   ],
   "source": [
    "frame.shape"
   ]
  },
  {
   "cell_type": "code",
   "execution_count": 26,
   "metadata": {
    "collapsed": true
   },
   "outputs": [],
   "source": [
    "df = frame.dropna(how='any')"
   ]
  },
  {
   "cell_type": "code",
   "execution_count": 27,
   "metadata": {
    "collapsed": false
   },
   "outputs": [
    {
     "data": {
      "text/plain": [
       "(5538145, 29)"
      ]
     },
     "execution_count": 27,
     "metadata": {},
     "output_type": "execute_result"
    }
   ],
   "source": [
    "df.shape"
   ]
  },
  {
   "cell_type": "code",
   "execution_count": 29,
   "metadata": {
    "collapsed": false,
    "scrolled": true
   },
   "outputs": [
    {
     "data": {
      "text/html": [
       "<div>\n",
       "<table border=\"1\" class=\"dataframe\">\n",
       "  <thead>\n",
       "    <tr style=\"text-align: right;\">\n",
       "      <th></th>\n",
       "      <th>YEAR</th>\n",
       "      <th>QUARTER</th>\n",
       "      <th>MONTH</th>\n",
       "      <th>DAY_OF_MONTH</th>\n",
       "      <th>DAY_OF_WEEK</th>\n",
       "      <th>ORIGIN_AIRPORT_ID</th>\n",
       "      <th>ORIGIN_AIRPORT_SEQ_ID</th>\n",
       "      <th>ORIGIN_CITY_MARKET_ID</th>\n",
       "      <th>DEST_AIRPORT_ID</th>\n",
       "      <th>DEST_AIRPORT_SEQ_ID</th>\n",
       "      <th>DEST_CITY_MARKET_ID</th>\n",
       "      <th>DEP_TIME</th>\n",
       "      <th>DEP_DELAY</th>\n",
       "      <th>TAXI_OUT</th>\n",
       "      <th>TAXI_IN</th>\n",
       "      <th>ARR_TIME</th>\n",
       "      <th>ARR_DELAY</th>\n",
       "      <th>CANCELLED</th>\n",
       "      <th>AIR_TIME</th>\n",
       "      <th>DISTANCE</th>\n",
       "    </tr>\n",
       "  </thead>\n",
       "  <tbody>\n",
       "    <tr>\n",
       "      <th>count</th>\n",
       "      <td>5538145.0</td>\n",
       "      <td>5.538145e+06</td>\n",
       "      <td>5.538145e+06</td>\n",
       "      <td>5.538145e+06</td>\n",
       "      <td>5.538145e+06</td>\n",
       "      <td>5.538145e+06</td>\n",
       "      <td>5.538145e+06</td>\n",
       "      <td>5.538145e+06</td>\n",
       "      <td>5.538145e+06</td>\n",
       "      <td>5.538145e+06</td>\n",
       "      <td>5.538145e+06</td>\n",
       "      <td>5.538145e+06</td>\n",
       "      <td>5.538145e+06</td>\n",
       "      <td>5.538145e+06</td>\n",
       "      <td>5.538145e+06</td>\n",
       "      <td>5.538145e+06</td>\n",
       "      <td>5.538145e+06</td>\n",
       "      <td>5538145.0</td>\n",
       "      <td>5.538145e+06</td>\n",
       "      <td>5.538145e+06</td>\n",
       "    </tr>\n",
       "    <tr>\n",
       "      <th>mean</th>\n",
       "      <td>2016.0</td>\n",
       "      <td>2.514304e+00</td>\n",
       "      <td>6.544774e+00</td>\n",
       "      <td>1.576496e+01</td>\n",
       "      <td>3.932326e+00</td>\n",
       "      <td>1.268110e+04</td>\n",
       "      <td>1.268113e+06</td>\n",
       "      <td>3.171762e+04</td>\n",
       "      <td>1.268156e+04</td>\n",
       "      <td>1.268159e+06</td>\n",
       "      <td>3.171844e+04</td>\n",
       "      <td>1.333439e+03</td>\n",
       "      <td>8.873761e+00</td>\n",
       "      <td>1.618508e+01</td>\n",
       "      <td>7.448903e+00</td>\n",
       "      <td>1.471441e+03</td>\n",
       "      <td>3.519290e+00</td>\n",
       "      <td>0.0</td>\n",
       "      <td>1.165268e+02</td>\n",
       "      <td>8.512796e+02</td>\n",
       "    </tr>\n",
       "    <tr>\n",
       "      <th>std</th>\n",
       "      <td>0.0</td>\n",
       "      <td>1.105311e+00</td>\n",
       "      <td>3.397190e+00</td>\n",
       "      <td>8.795537e+00</td>\n",
       "      <td>1.985352e+00</td>\n",
       "      <td>1.535525e+03</td>\n",
       "      <td>1.535522e+05</td>\n",
       "      <td>1.281668e+03</td>\n",
       "      <td>1.535788e+03</td>\n",
       "      <td>1.535785e+05</td>\n",
       "      <td>1.281953e+03</td>\n",
       "      <td>5.025490e+02</td>\n",
       "      <td>3.959866e+01</td>\n",
       "      <td>8.815603e+00</td>\n",
       "      <td>5.681893e+00</td>\n",
       "      <td>5.343024e+02</td>\n",
       "      <td>4.187332e+01</td>\n",
       "      <td>0.0</td>\n",
       "      <td>7.352773e+01</td>\n",
       "      <td>6.200882e+02</td>\n",
       "    </tr>\n",
       "    <tr>\n",
       "      <th>min</th>\n",
       "      <td>2016.0</td>\n",
       "      <td>1.000000e+00</td>\n",
       "      <td>1.000000e+00</td>\n",
       "      <td>1.000000e+00</td>\n",
       "      <td>1.000000e+00</td>\n",
       "      <td>1.013500e+04</td>\n",
       "      <td>1.013503e+06</td>\n",
       "      <td>3.007000e+04</td>\n",
       "      <td>1.013500e+04</td>\n",
       "      <td>1.013503e+06</td>\n",
       "      <td>3.007000e+04</td>\n",
       "      <td>1.000000e+00</td>\n",
       "      <td>-2.040000e+02</td>\n",
       "      <td>1.000000e+00</td>\n",
       "      <td>1.000000e+00</td>\n",
       "      <td>1.000000e+00</td>\n",
       "      <td>-1.520000e+02</td>\n",
       "      <td>0.0</td>\n",
       "      <td>4.000000e+00</td>\n",
       "      <td>2.800000e+01</td>\n",
       "    </tr>\n",
       "    <tr>\n",
       "      <th>25%</th>\n",
       "      <td>2016.0</td>\n",
       "      <td>2.000000e+00</td>\n",
       "      <td>4.000000e+00</td>\n",
       "      <td>8.000000e+00</td>\n",
       "      <td>2.000000e+00</td>\n",
       "      <td>1.129200e+04</td>\n",
       "      <td>1.129202e+06</td>\n",
       "      <td>3.059900e+04</td>\n",
       "      <td>1.129200e+04</td>\n",
       "      <td>1.129202e+06</td>\n",
       "      <td>3.059900e+04</td>\n",
       "      <td>9.170000e+02</td>\n",
       "      <td>-5.000000e+00</td>\n",
       "      <td>1.100000e+01</td>\n",
       "      <td>4.000000e+00</td>\n",
       "      <td>1.052000e+03</td>\n",
       "      <td>-1.400000e+01</td>\n",
       "      <td>0.0</td>\n",
       "      <td>6.200000e+01</td>\n",
       "      <td>3.910000e+02</td>\n",
       "    </tr>\n",
       "    <tr>\n",
       "      <th>50%</th>\n",
       "      <td>2016.0</td>\n",
       "      <td>3.000000e+00</td>\n",
       "      <td>7.000000e+00</td>\n",
       "      <td>1.600000e+01</td>\n",
       "      <td>4.000000e+00</td>\n",
       "      <td>1.288900e+04</td>\n",
       "      <td>1.288903e+06</td>\n",
       "      <td>3.145300e+04</td>\n",
       "      <td>1.288900e+04</td>\n",
       "      <td>1.288903e+06</td>\n",
       "      <td>3.145300e+04</td>\n",
       "      <td>1.328000e+03</td>\n",
       "      <td>-2.000000e+00</td>\n",
       "      <td>1.400000e+01</td>\n",
       "      <td>6.000000e+00</td>\n",
       "      <td>1.511000e+03</td>\n",
       "      <td>-6.000000e+00</td>\n",
       "      <td>0.0</td>\n",
       "      <td>9.700000e+01</td>\n",
       "      <td>6.790000e+02</td>\n",
       "    </tr>\n",
       "    <tr>\n",
       "      <th>75%</th>\n",
       "      <td>2016.0</td>\n",
       "      <td>3.000000e+00</td>\n",
       "      <td>9.000000e+00</td>\n",
       "      <td>2.300000e+01</td>\n",
       "      <td>6.000000e+00</td>\n",
       "      <td>1.405700e+04</td>\n",
       "      <td>1.405702e+06</td>\n",
       "      <td>3.246700e+04</td>\n",
       "      <td>1.405700e+04</td>\n",
       "      <td>1.405702e+06</td>\n",
       "      <td>3.246700e+04</td>\n",
       "      <td>1.742000e+03</td>\n",
       "      <td>6.000000e+00</td>\n",
       "      <td>1.900000e+01</td>\n",
       "      <td>9.000000e+00</td>\n",
       "      <td>1.918000e+03</td>\n",
       "      <td>6.000000e+00</td>\n",
       "      <td>0.0</td>\n",
       "      <td>1.480000e+02</td>\n",
       "      <td>1.096000e+03</td>\n",
       "    </tr>\n",
       "    <tr>\n",
       "      <th>max</th>\n",
       "      <td>2016.0</td>\n",
       "      <td>4.000000e+00</td>\n",
       "      <td>1.200000e+01</td>\n",
       "      <td>3.100000e+01</td>\n",
       "      <td>7.000000e+00</td>\n",
       "      <td>1.621800e+04</td>\n",
       "      <td>1.621801e+06</td>\n",
       "      <td>3.599100e+04</td>\n",
       "      <td>1.621800e+04</td>\n",
       "      <td>1.621801e+06</td>\n",
       "      <td>3.599100e+04</td>\n",
       "      <td>2.400000e+03</td>\n",
       "      <td>2.149000e+03</td>\n",
       "      <td>1.860000e+02</td>\n",
       "      <td>2.500000e+02</td>\n",
       "      <td>2.400000e+03</td>\n",
       "      <td>2.142000e+03</td>\n",
       "      <td>0.0</td>\n",
       "      <td>7.230000e+02</td>\n",
       "      <td>4.983000e+03</td>\n",
       "    </tr>\n",
       "  </tbody>\n",
       "</table>\n",
       "</div>"
      ],
      "text/plain": [
       "            YEAR       QUARTER         MONTH  DAY_OF_MONTH   DAY_OF_WEEK  \\\n",
       "count  5538145.0  5.538145e+06  5.538145e+06  5.538145e+06  5.538145e+06   \n",
       "mean      2016.0  2.514304e+00  6.544774e+00  1.576496e+01  3.932326e+00   \n",
       "std          0.0  1.105311e+00  3.397190e+00  8.795537e+00  1.985352e+00   \n",
       "min       2016.0  1.000000e+00  1.000000e+00  1.000000e+00  1.000000e+00   \n",
       "25%       2016.0  2.000000e+00  4.000000e+00  8.000000e+00  2.000000e+00   \n",
       "50%       2016.0  3.000000e+00  7.000000e+00  1.600000e+01  4.000000e+00   \n",
       "75%       2016.0  3.000000e+00  9.000000e+00  2.300000e+01  6.000000e+00   \n",
       "max       2016.0  4.000000e+00  1.200000e+01  3.100000e+01  7.000000e+00   \n",
       "\n",
       "       ORIGIN_AIRPORT_ID  ORIGIN_AIRPORT_SEQ_ID  ORIGIN_CITY_MARKET_ID  \\\n",
       "count       5.538145e+06           5.538145e+06           5.538145e+06   \n",
       "mean        1.268110e+04           1.268113e+06           3.171762e+04   \n",
       "std         1.535525e+03           1.535522e+05           1.281668e+03   \n",
       "min         1.013500e+04           1.013503e+06           3.007000e+04   \n",
       "25%         1.129200e+04           1.129202e+06           3.059900e+04   \n",
       "50%         1.288900e+04           1.288903e+06           3.145300e+04   \n",
       "75%         1.405700e+04           1.405702e+06           3.246700e+04   \n",
       "max         1.621800e+04           1.621801e+06           3.599100e+04   \n",
       "\n",
       "       DEST_AIRPORT_ID  DEST_AIRPORT_SEQ_ID  DEST_CITY_MARKET_ID  \\\n",
       "count     5.538145e+06         5.538145e+06         5.538145e+06   \n",
       "mean      1.268156e+04         1.268159e+06         3.171844e+04   \n",
       "std       1.535788e+03         1.535785e+05         1.281953e+03   \n",
       "min       1.013500e+04         1.013503e+06         3.007000e+04   \n",
       "25%       1.129200e+04         1.129202e+06         3.059900e+04   \n",
       "50%       1.288900e+04         1.288903e+06         3.145300e+04   \n",
       "75%       1.405700e+04         1.405702e+06         3.246700e+04   \n",
       "max       1.621800e+04         1.621801e+06         3.599100e+04   \n",
       "\n",
       "           DEP_TIME     DEP_DELAY      TAXI_OUT       TAXI_IN      ARR_TIME  \\\n",
       "count  5.538145e+06  5.538145e+06  5.538145e+06  5.538145e+06  5.538145e+06   \n",
       "mean   1.333439e+03  8.873761e+00  1.618508e+01  7.448903e+00  1.471441e+03   \n",
       "std    5.025490e+02  3.959866e+01  8.815603e+00  5.681893e+00  5.343024e+02   \n",
       "min    1.000000e+00 -2.040000e+02  1.000000e+00  1.000000e+00  1.000000e+00   \n",
       "25%    9.170000e+02 -5.000000e+00  1.100000e+01  4.000000e+00  1.052000e+03   \n",
       "50%    1.328000e+03 -2.000000e+00  1.400000e+01  6.000000e+00  1.511000e+03   \n",
       "75%    1.742000e+03  6.000000e+00  1.900000e+01  9.000000e+00  1.918000e+03   \n",
       "max    2.400000e+03  2.149000e+03  1.860000e+02  2.500000e+02  2.400000e+03   \n",
       "\n",
       "          ARR_DELAY  CANCELLED      AIR_TIME      DISTANCE  \n",
       "count  5.538145e+06  5538145.0  5.538145e+06  5.538145e+06  \n",
       "mean   3.519290e+00        0.0  1.165268e+02  8.512796e+02  \n",
       "std    4.187332e+01        0.0  7.352773e+01  6.200882e+02  \n",
       "min   -1.520000e+02        0.0  4.000000e+00  2.800000e+01  \n",
       "25%   -1.400000e+01        0.0  6.200000e+01  3.910000e+02  \n",
       "50%   -6.000000e+00        0.0  9.700000e+01  6.790000e+02  \n",
       "75%    6.000000e+00        0.0  1.480000e+02  1.096000e+03  \n",
       "max    2.142000e+03        0.0  7.230000e+02  4.983000e+03  "
      ]
     },
     "execution_count": 29,
     "metadata": {},
     "output_type": "execute_result"
    }
   ],
   "source": [
    "df.describe()"
   ]
  },
  {
   "cell_type": "code",
   "execution_count": 32,
   "metadata": {
    "collapsed": false
   },
   "outputs": [
    {
     "data": {
      "text/plain": [
       "Index([u'YEAR', u'QUARTER', u'MONTH', u'DAY_OF_MONTH', u'DAY_OF_WEEK',\n",
       "       u'FL_DATE', u'UNIQUE_CARRIER', u'ORIGIN_AIRPORT_ID',\n",
       "       u'ORIGIN_AIRPORT_SEQ_ID', u'ORIGIN_CITY_MARKET_ID', u'ORIGIN',\n",
       "       u'ORIGIN_CITY_NAME', u'ORIGIN_STATE_ABR', u'ORIGIN_STATE_NM',\n",
       "       u'DEST_AIRPORT_ID', u'DEST_AIRPORT_SEQ_ID', u'DEST_CITY_MARKET_ID',\n",
       "       u'DEST', u'DEST_CITY_NAME', u'DEST_STATE_NM', u'DEP_TIME', u'DEP_DELAY',\n",
       "       u'TAXI_OUT', u'TAXI_IN', u'ARR_TIME', u'ARR_DELAY', u'CANCELLED',\n",
       "       u'AIR_TIME', u'DISTANCE'],\n",
       "      dtype='object')"
      ]
     },
     "execution_count": 32,
     "metadata": {},
     "output_type": "execute_result"
    }
   ],
   "source": [
    "df.columns"
   ]
  },
  {
   "cell_type": "code",
   "execution_count": 33,
   "metadata": {
    "collapsed": true
   },
   "outputs": [],
   "source": [
    "df_subset = df[['UNIQUE_CARRIER', 'MONTH', 'DAY_OF_WEEK', 'DISTANCE', 'AIR_TIME', 'DEP_DELAY', 'ARR_DELAY', 'TAXI_IN', 'TAXI_OUT', ]]"
   ]
  },
  {
   "cell_type": "code",
   "execution_count": 34,
   "metadata": {
    "collapsed": false
   },
   "outputs": [
    {
     "data": {
      "text/plain": [
       "(5538145, 9)"
      ]
     },
     "execution_count": 34,
     "metadata": {},
     "output_type": "execute_result"
    }
   ],
   "source": [
    "df_subset.shape"
   ]
  },
  {
   "cell_type": "code",
   "execution_count": 35,
   "metadata": {
    "collapsed": true
   },
   "outputs": [],
   "source": [
    "grouped = df_subset.groupby(['UNIQUE_CARRIER', 'MONTH', 'DAY_OF_WEEK'])"
   ]
  },
  {
   "cell_type": "code",
   "execution_count": 36,
   "metadata": {
    "collapsed": true
   },
   "outputs": [],
   "source": [
    "summary = grouped.agg({'DISTANCE' : 'mean', 'AIR_TIME' : 'mean', 'DEP_DELAY' : 'mean','ARR_DELAY' : 'mean',\n",
    "                      'TAXI_IN' : 'mean', 'TAXI_OUT' : 'mean', 'UNIQUE_CARRIER' : 'count'})"
   ]
  },
  {
   "cell_type": "code",
   "execution_count": 37,
   "metadata": {
    "collapsed": false
   },
   "outputs": [
    {
     "data": {
      "text/html": [
       "<div>\n",
       "<table border=\"1\" class=\"dataframe\">\n",
       "  <thead>\n",
       "    <tr style=\"text-align: right;\">\n",
       "      <th></th>\n",
       "      <th></th>\n",
       "      <th></th>\n",
       "      <th>DISTANCE</th>\n",
       "      <th>DEP_DELAY</th>\n",
       "      <th>AIR_TIME</th>\n",
       "      <th>UNIQUE_CARRIER</th>\n",
       "      <th>TAXI_IN</th>\n",
       "      <th>ARR_DELAY</th>\n",
       "      <th>TAXI_OUT</th>\n",
       "    </tr>\n",
       "    <tr>\n",
       "      <th>UNIQUE_CARRIER</th>\n",
       "      <th>MONTH</th>\n",
       "      <th>DAY_OF_WEEK</th>\n",
       "      <th></th>\n",
       "      <th></th>\n",
       "      <th></th>\n",
       "      <th></th>\n",
       "      <th></th>\n",
       "      <th></th>\n",
       "      <th></th>\n",
       "    </tr>\n",
       "  </thead>\n",
       "  <tbody>\n",
       "    <tr>\n",
       "      <th rowspan=\"5\" valign=\"top\">AA</th>\n",
       "      <th rowspan=\"5\" valign=\"top\">1</th>\n",
       "      <th>1</th>\n",
       "      <td>1003.794574</td>\n",
       "      <td>9.247348</td>\n",
       "      <td>135.546614</td>\n",
       "      <td>9804</td>\n",
       "      <td>8.791820</td>\n",
       "      <td>3.647695</td>\n",
       "      <td>18.006324</td>\n",
       "    </tr>\n",
       "    <tr>\n",
       "      <th>2</th>\n",
       "      <td>962.655139</td>\n",
       "      <td>4.855161</td>\n",
       "      <td>131.939908</td>\n",
       "      <td>9369</td>\n",
       "      <td>8.421283</td>\n",
       "      <td>-0.256698</td>\n",
       "      <td>18.035756</td>\n",
       "    </tr>\n",
       "    <tr>\n",
       "      <th>3</th>\n",
       "      <td>962.186572</td>\n",
       "      <td>3.574568</td>\n",
       "      <td>131.807106</td>\n",
       "      <td>9964</td>\n",
       "      <td>8.510739</td>\n",
       "      <td>-1.030309</td>\n",
       "      <td>18.397230</td>\n",
       "    </tr>\n",
       "    <tr>\n",
       "      <th>4</th>\n",
       "      <td>977.815826</td>\n",
       "      <td>5.548975</td>\n",
       "      <td>133.805085</td>\n",
       "      <td>10148</td>\n",
       "      <td>8.631553</td>\n",
       "      <td>0.752365</td>\n",
       "      <td>17.990343</td>\n",
       "    </tr>\n",
       "    <tr>\n",
       "      <th>5</th>\n",
       "      <td>1005.221199</td>\n",
       "      <td>6.764771</td>\n",
       "      <td>136.787930</td>\n",
       "      <td>11831</td>\n",
       "      <td>8.800440</td>\n",
       "      <td>2.294988</td>\n",
       "      <td>18.288057</td>\n",
       "    </tr>\n",
       "  </tbody>\n",
       "</table>\n",
       "</div>"
      ],
      "text/plain": [
       "                                     DISTANCE  DEP_DELAY    AIR_TIME  \\\n",
       "UNIQUE_CARRIER MONTH DAY_OF_WEEK                                       \n",
       "AA             1     1            1003.794574   9.247348  135.546614   \n",
       "                     2             962.655139   4.855161  131.939908   \n",
       "                     3             962.186572   3.574568  131.807106   \n",
       "                     4             977.815826   5.548975  133.805085   \n",
       "                     5            1005.221199   6.764771  136.787930   \n",
       "\n",
       "                                  UNIQUE_CARRIER   TAXI_IN  ARR_DELAY  \\\n",
       "UNIQUE_CARRIER MONTH DAY_OF_WEEK                                        \n",
       "AA             1     1                      9804  8.791820   3.647695   \n",
       "                     2                      9369  8.421283  -0.256698   \n",
       "                     3                      9964  8.510739  -1.030309   \n",
       "                     4                     10148  8.631553   0.752365   \n",
       "                     5                     11831  8.800440   2.294988   \n",
       "\n",
       "                                   TAXI_OUT  \n",
       "UNIQUE_CARRIER MONTH DAY_OF_WEEK             \n",
       "AA             1     1            18.006324  \n",
       "                     2            18.035756  \n",
       "                     3            18.397230  \n",
       "                     4            17.990343  \n",
       "                     5            18.288057  "
      ]
     },
     "execution_count": 37,
     "metadata": {},
     "output_type": "execute_result"
    }
   ],
   "source": [
    "summary.head()"
   ]
  },
  {
   "cell_type": "code",
   "execution_count": 38,
   "metadata": {
    "collapsed": false
   },
   "outputs": [
    {
     "data": {
      "text/plain": [
       "(1008, 7)"
      ]
     },
     "execution_count": 38,
     "metadata": {},
     "output_type": "execute_result"
    }
   ],
   "source": [
    "summary.shape"
   ]
  },
  {
   "cell_type": "code",
   "execution_count": 43,
   "metadata": {
    "collapsed": false
   },
   "outputs": [],
   "source": [
    "summary = summary.rename(index=str, columns={\"UNIQUE_CARRIER\": \"NUMBER_OF_FLIGHTS\"})"
   ]
  },
  {
   "cell_type": "code",
   "execution_count": 45,
   "metadata": {
    "collapsed": false
   },
   "outputs": [],
   "source": [
    "summary = summary.reset_index()"
   ]
  },
  {
   "cell_type": "code",
   "execution_count": 47,
   "metadata": {
    "collapsed": false
   },
   "outputs": [],
   "source": [
    "summary = summary.rename(index=str, columns = {\"UNIQUE_CARRIER\" : \"CARRIER\"})"
   ]
  },
  {
   "cell_type": "code",
   "execution_count": 48,
   "metadata": {
    "collapsed": false
   },
   "outputs": [
    {
     "data": {
      "text/html": [
       "<div>\n",
       "<table border=\"1\" class=\"dataframe\">\n",
       "  <thead>\n",
       "    <tr style=\"text-align: right;\">\n",
       "      <th></th>\n",
       "      <th>CARRIER</th>\n",
       "      <th>MONTH</th>\n",
       "      <th>DAY_OF_WEEK</th>\n",
       "      <th>DISTANCE</th>\n",
       "      <th>DEP_DELAY</th>\n",
       "      <th>AIR_TIME</th>\n",
       "      <th>NUMBER_OF_FLIGHTS</th>\n",
       "      <th>TAXI_IN</th>\n",
       "      <th>ARR_DELAY</th>\n",
       "      <th>TAXI_OUT</th>\n",
       "    </tr>\n",
       "  </thead>\n",
       "  <tbody>\n",
       "    <tr>\n",
       "      <th>0</th>\n",
       "      <td>AA</td>\n",
       "      <td>1</td>\n",
       "      <td>1</td>\n",
       "      <td>1003.794574</td>\n",
       "      <td>9.247348</td>\n",
       "      <td>135.546614</td>\n",
       "      <td>9804</td>\n",
       "      <td>8.791820</td>\n",
       "      <td>3.647695</td>\n",
       "      <td>18.006324</td>\n",
       "    </tr>\n",
       "    <tr>\n",
       "      <th>1</th>\n",
       "      <td>AA</td>\n",
       "      <td>1</td>\n",
       "      <td>2</td>\n",
       "      <td>962.655139</td>\n",
       "      <td>4.855161</td>\n",
       "      <td>131.939908</td>\n",
       "      <td>9369</td>\n",
       "      <td>8.421283</td>\n",
       "      <td>-0.256698</td>\n",
       "      <td>18.035756</td>\n",
       "    </tr>\n",
       "    <tr>\n",
       "      <th>2</th>\n",
       "      <td>AA</td>\n",
       "      <td>1</td>\n",
       "      <td>3</td>\n",
       "      <td>962.186572</td>\n",
       "      <td>3.574568</td>\n",
       "      <td>131.807106</td>\n",
       "      <td>9964</td>\n",
       "      <td>8.510739</td>\n",
       "      <td>-1.030309</td>\n",
       "      <td>18.397230</td>\n",
       "    </tr>\n",
       "    <tr>\n",
       "      <th>3</th>\n",
       "      <td>AA</td>\n",
       "      <td>1</td>\n",
       "      <td>4</td>\n",
       "      <td>977.815826</td>\n",
       "      <td>5.548975</td>\n",
       "      <td>133.805085</td>\n",
       "      <td>10148</td>\n",
       "      <td>8.631553</td>\n",
       "      <td>0.752365</td>\n",
       "      <td>17.990343</td>\n",
       "    </tr>\n",
       "    <tr>\n",
       "      <th>4</th>\n",
       "      <td>AA</td>\n",
       "      <td>1</td>\n",
       "      <td>5</td>\n",
       "      <td>1005.221199</td>\n",
       "      <td>6.764771</td>\n",
       "      <td>136.787930</td>\n",
       "      <td>11831</td>\n",
       "      <td>8.800440</td>\n",
       "      <td>2.294988</td>\n",
       "      <td>18.288057</td>\n",
       "    </tr>\n",
       "  </tbody>\n",
       "</table>\n",
       "</div>"
      ],
      "text/plain": [
       "  CARRIER MONTH DAY_OF_WEEK     DISTANCE  DEP_DELAY    AIR_TIME  \\\n",
       "0      AA     1           1  1003.794574   9.247348  135.546614   \n",
       "1      AA     1           2   962.655139   4.855161  131.939908   \n",
       "2      AA     1           3   962.186572   3.574568  131.807106   \n",
       "3      AA     1           4   977.815826   5.548975  133.805085   \n",
       "4      AA     1           5  1005.221199   6.764771  136.787930   \n",
       "\n",
       "   NUMBER_OF_FLIGHTS   TAXI_IN  ARR_DELAY   TAXI_OUT  \n",
       "0               9804  8.791820   3.647695  18.006324  \n",
       "1               9369  8.421283  -0.256698  18.035756  \n",
       "2               9964  8.510739  -1.030309  18.397230  \n",
       "3              10148  8.631553   0.752365  17.990343  \n",
       "4              11831  8.800440   2.294988  18.288057  "
      ]
     },
     "execution_count": 48,
     "metadata": {},
     "output_type": "execute_result"
    }
   ],
   "source": [
    "summary.head()"
   ]
  },
  {
   "cell_type": "code",
   "execution_count": 49,
   "metadata": {
    "collapsed": true
   },
   "outputs": [],
   "source": [
    "carriers = pd.read_csv(\"L_UNIQUE_CARRIERS.csv\")"
   ]
  },
  {
   "cell_type": "code",
   "execution_count": 50,
   "metadata": {
    "collapsed": false
   },
   "outputs": [
    {
     "data": {
      "text/html": [
       "<div>\n",
       "<table border=\"1\" class=\"dataframe\">\n",
       "  <thead>\n",
       "    <tr style=\"text-align: right;\">\n",
       "      <th></th>\n",
       "      <th>Code</th>\n",
       "      <th>Description</th>\n",
       "    </tr>\n",
       "  </thead>\n",
       "  <tbody>\n",
       "    <tr>\n",
       "      <th>0</th>\n",
       "      <td>02Q</td>\n",
       "      <td>Titan Airways</td>\n",
       "    </tr>\n",
       "    <tr>\n",
       "      <th>1</th>\n",
       "      <td>04Q</td>\n",
       "      <td>Tradewind Aviation</td>\n",
       "    </tr>\n",
       "    <tr>\n",
       "      <th>2</th>\n",
       "      <td>05Q</td>\n",
       "      <td>Comlux Aviation, AG</td>\n",
       "    </tr>\n",
       "    <tr>\n",
       "      <th>3</th>\n",
       "      <td>06Q</td>\n",
       "      <td>Master Top Linhas Aereas Ltd.</td>\n",
       "    </tr>\n",
       "    <tr>\n",
       "      <th>4</th>\n",
       "      <td>07Q</td>\n",
       "      <td>Flair Airlines Ltd.</td>\n",
       "    </tr>\n",
       "  </tbody>\n",
       "</table>\n",
       "</div>"
      ],
      "text/plain": [
       "  Code                    Description\n",
       "0  02Q                  Titan Airways\n",
       "1  04Q             Tradewind Aviation\n",
       "2  05Q            Comlux Aviation, AG\n",
       "3  06Q  Master Top Linhas Aereas Ltd.\n",
       "4  07Q            Flair Airlines Ltd."
      ]
     },
     "execution_count": 50,
     "metadata": {},
     "output_type": "execute_result"
    }
   ],
   "source": [
    "carriers.head()"
   ]
  },
  {
   "cell_type": "code",
   "execution_count": 52,
   "metadata": {
    "collapsed": false
   },
   "outputs": [],
   "source": [
    "merged_df = summary.merge(carriers, left_on='CARRIER', right_on = \"Code\")"
   ]
  },
  {
   "cell_type": "code",
   "execution_count": 54,
   "metadata": {
    "collapsed": false
   },
   "outputs": [
    {
     "data": {
      "text/html": [
       "<div>\n",
       "<table border=\"1\" class=\"dataframe\">\n",
       "  <thead>\n",
       "    <tr style=\"text-align: right;\">\n",
       "      <th></th>\n",
       "      <th>CARRIER</th>\n",
       "      <th>MONTH</th>\n",
       "      <th>DAY_OF_WEEK</th>\n",
       "      <th>DISTANCE</th>\n",
       "      <th>DEP_DELAY</th>\n",
       "      <th>AIR_TIME</th>\n",
       "      <th>NUMBER_OF_FLIGHTS</th>\n",
       "      <th>TAXI_IN</th>\n",
       "      <th>ARR_DELAY</th>\n",
       "      <th>TAXI_OUT</th>\n",
       "      <th>Code</th>\n",
       "      <th>Description</th>\n",
       "    </tr>\n",
       "  </thead>\n",
       "  <tbody>\n",
       "    <tr>\n",
       "      <th>0</th>\n",
       "      <td>AA</td>\n",
       "      <td>1</td>\n",
       "      <td>1</td>\n",
       "      <td>1003.794574</td>\n",
       "      <td>9.247348</td>\n",
       "      <td>135.546614</td>\n",
       "      <td>9804</td>\n",
       "      <td>8.791820</td>\n",
       "      <td>3.647695</td>\n",
       "      <td>18.006324</td>\n",
       "      <td>AA</td>\n",
       "      <td>American Airlines Inc.</td>\n",
       "    </tr>\n",
       "    <tr>\n",
       "      <th>1</th>\n",
       "      <td>AA</td>\n",
       "      <td>1</td>\n",
       "      <td>2</td>\n",
       "      <td>962.655139</td>\n",
       "      <td>4.855161</td>\n",
       "      <td>131.939908</td>\n",
       "      <td>9369</td>\n",
       "      <td>8.421283</td>\n",
       "      <td>-0.256698</td>\n",
       "      <td>18.035756</td>\n",
       "      <td>AA</td>\n",
       "      <td>American Airlines Inc.</td>\n",
       "    </tr>\n",
       "    <tr>\n",
       "      <th>2</th>\n",
       "      <td>AA</td>\n",
       "      <td>1</td>\n",
       "      <td>3</td>\n",
       "      <td>962.186572</td>\n",
       "      <td>3.574568</td>\n",
       "      <td>131.807106</td>\n",
       "      <td>9964</td>\n",
       "      <td>8.510739</td>\n",
       "      <td>-1.030309</td>\n",
       "      <td>18.397230</td>\n",
       "      <td>AA</td>\n",
       "      <td>American Airlines Inc.</td>\n",
       "    </tr>\n",
       "    <tr>\n",
       "      <th>3</th>\n",
       "      <td>AA</td>\n",
       "      <td>1</td>\n",
       "      <td>4</td>\n",
       "      <td>977.815826</td>\n",
       "      <td>5.548975</td>\n",
       "      <td>133.805085</td>\n",
       "      <td>10148</td>\n",
       "      <td>8.631553</td>\n",
       "      <td>0.752365</td>\n",
       "      <td>17.990343</td>\n",
       "      <td>AA</td>\n",
       "      <td>American Airlines Inc.</td>\n",
       "    </tr>\n",
       "    <tr>\n",
       "      <th>4</th>\n",
       "      <td>AA</td>\n",
       "      <td>1</td>\n",
       "      <td>5</td>\n",
       "      <td>1005.221199</td>\n",
       "      <td>6.764771</td>\n",
       "      <td>136.787930</td>\n",
       "      <td>11831</td>\n",
       "      <td>8.800440</td>\n",
       "      <td>2.294988</td>\n",
       "      <td>18.288057</td>\n",
       "      <td>AA</td>\n",
       "      <td>American Airlines Inc.</td>\n",
       "    </tr>\n",
       "  </tbody>\n",
       "</table>\n",
       "</div>"
      ],
      "text/plain": [
       "  CARRIER MONTH DAY_OF_WEEK     DISTANCE  DEP_DELAY    AIR_TIME  \\\n",
       "0      AA     1           1  1003.794574   9.247348  135.546614   \n",
       "1      AA     1           2   962.655139   4.855161  131.939908   \n",
       "2      AA     1           3   962.186572   3.574568  131.807106   \n",
       "3      AA     1           4   977.815826   5.548975  133.805085   \n",
       "4      AA     1           5  1005.221199   6.764771  136.787930   \n",
       "\n",
       "   NUMBER_OF_FLIGHTS   TAXI_IN  ARR_DELAY   TAXI_OUT Code  \\\n",
       "0               9804  8.791820   3.647695  18.006324   AA   \n",
       "1               9369  8.421283  -0.256698  18.035756   AA   \n",
       "2               9964  8.510739  -1.030309  18.397230   AA   \n",
       "3              10148  8.631553   0.752365  17.990343   AA   \n",
       "4              11831  8.800440   2.294988  18.288057   AA   \n",
       "\n",
       "              Description  \n",
       "0  American Airlines Inc.  \n",
       "1  American Airlines Inc.  \n",
       "2  American Airlines Inc.  \n",
       "3  American Airlines Inc.  \n",
       "4  American Airlines Inc.  "
      ]
     },
     "execution_count": 54,
     "metadata": {},
     "output_type": "execute_result"
    }
   ],
   "source": [
    "merged_df.head()"
   ]
  },
  {
   "cell_type": "code",
   "execution_count": 55,
   "metadata": {
    "collapsed": true
   },
   "outputs": [],
   "source": [
    "del merged_df['CARRIER']"
   ]
  },
  {
   "cell_type": "code",
   "execution_count": 58,
   "metadata": {
    "collapsed": false
   },
   "outputs": [],
   "source": [
    "merged_df = merged_df.rename(index=str, columns = {\"Description\" : \"CARRIER\"})"
   ]
  },
  {
   "cell_type": "code",
   "execution_count": 60,
   "metadata": {
    "collapsed": false
   },
   "outputs": [
    {
     "data": {
      "text/plain": [
       "Index([u'MONTH', u'DAY_OF_WEEK', u'DISTANCE', u'DEP_DELAY', u'AIR_TIME',\n",
       "       u'NUMBER_OF_FLIGHTS', u'TAXI_IN', u'ARR_DELAY', u'TAXI_OUT', u'Code',\n",
       "       u'CARRIER'],\n",
       "      dtype='object')"
      ]
     },
     "execution_count": 60,
     "metadata": {},
     "output_type": "execute_result"
    }
   ],
   "source": [
    "merged_df.columns"
   ]
  },
  {
   "cell_type": "code",
   "execution_count": 61,
   "metadata": {
    "collapsed": true
   },
   "outputs": [],
   "source": [
    "merged_df = merged_df[[u'Code', u'CARRIER', u'MONTH', u'DAY_OF_WEEK', u'DISTANCE', u'DEP_DELAY', u'AIR_TIME',\n",
    "       u'NUMBER_OF_FLIGHTS', u'TAXI_IN', u'ARR_DELAY', u'TAXI_OUT'\n",
    "       ]]"
   ]
  },
  {
   "cell_type": "code",
   "execution_count": 72,
   "metadata": {
    "collapsed": false
   },
   "outputs": [],
   "source": [
    "merged_df = merged_df.round()"
   ]
  },
  {
   "cell_type": "code",
   "execution_count": 73,
   "metadata": {
    "collapsed": true
   },
   "outputs": [],
   "source": [
    "merged_df.to_csv('flights_parcoords.csv', index=False)"
   ]
  },
  {
   "cell_type": "code",
   "execution_count": null,
   "metadata": {
    "collapsed": true
   },
   "outputs": [],
   "source": [
    "me"
   ]
  }
 ],
 "metadata": {
  "anaconda-cloud": {},
  "kernelspec": {
   "display_name": "Python [conda root]",
   "language": "python",
   "name": "conda-root-py"
  },
  "language_info": {
   "codemirror_mode": {
    "name": "ipython",
    "version": 2
   },
   "file_extension": ".py",
   "mimetype": "text/x-python",
   "name": "python",
   "nbconvert_exporter": "python",
   "pygments_lexer": "ipython2",
   "version": "2.7.12"
  }
 },
 "nbformat": 4,
 "nbformat_minor": 1
}
